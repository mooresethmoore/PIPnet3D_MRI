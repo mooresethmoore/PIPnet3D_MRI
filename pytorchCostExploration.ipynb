{
 "cells": [
  {
   "cell_type": "code",
   "execution_count": 1,
   "metadata": {},
   "outputs": [],
   "source": [
    "import torch\n",
    "import numpy as np\n",
    "import torch.nn as nn\n",
    "import torch.nn.functional as F\n"
   ]
  },
  {
   "cell_type": "code",
   "execution_count": 24,
   "metadata": {},
   "outputs": [
    {
     "data": {
      "text/plain": [
       "tensor(1.)"
      ]
     },
     "execution_count": 24,
     "metadata": {},
     "output_type": "execute_result"
    }
   ],
   "source": [
    "device = torch.device(\"cuda\" if torch.cuda.is_available() else \"cpu\")\n",
    "criterion = nn.NLLLoss(reduction='mean').to(device)\n",
    "\n",
    "outputs=torch.tensor([[1000]],dtype=torch.float32,requires_grad=True)\n",
    "ys=torch.tensor([0]).to(device)\n",
    "\n",
    "smallNum=5e-8 # exact value doesn't really matter\n",
    "tanhed=((1-smallNum)*torch.tanh(outputs))+(smallNum/2)# just scrunching the tanh for numerical stability\n",
    "criterionIn=torch.log(torch.tensor([[1-tanhed, tanhed]])).to(device)\n",
    "class_loss = criterion(criterionIn, ys)\n",
    "class_loss\n"
   ]
  }
 ],
 "metadata": {
  "kernelspec": {
   "display_name": "base",
   "language": "python",
   "name": "python3"
  },
  "language_info": {
   "codemirror_mode": {
    "name": "ipython",
    "version": 3
   },
   "file_extension": ".py",
   "mimetype": "text/x-python",
   "name": "python",
   "nbconvert_exporter": "python",
   "pygments_lexer": "ipython3",
   "version": "3.11.7"
  }
 },
 "nbformat": 4,
 "nbformat_minor": 2
}
