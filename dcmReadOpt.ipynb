{
 "cells": [
  {
   "cell_type": "code",
   "execution_count": 1,
   "metadata": {},
   "outputs": [],
   "source": [
    "import ipywidgets as widgets\n",
    "import numpy as np\n",
    "import matplotlib.pyplot as plt\n",
    "%matplotlib inline\n",
    "import imageio\n",
    "import os\n",
    "import json\n",
    "import pickle\n",
    "import joblib\n",
    "import h5py\n",
    "import openpyxl"
   ]
  },
  {
   "cell_type": "code",
   "execution_count": null,
   "metadata": {},
   "outputs": [],
   "source": [
    "\n"
   ]
  },
  {
   "cell_type": "code",
   "execution_count": 8,
   "metadata": {},
   "outputs": [
    {
     "name": "stderr",
     "output_type": "stream",
     "text": [
      "C:\\Users\\savio\\AppData\\Local\\Temp\\ipykernel_19664\\3204286231.py:30: DeprecationWarning: Starting with ImageIO v3 the behavior of this function will switch to that of iio.v3.imread. To keep the current behavior (and make this warning disappear) use `import imageio.v2 as imageio` or call `imageio.v2.imread` directly.\n",
      "  im = imageio.imread(f'{filePath}')\n"
     ]
    }
   ],
   "source": [
    "baseDir=\"../duke/Breast_MRI_002\"\n",
    "\n",
    "\n",
    "patientData={}\n",
    "\n",
    "pTotal=3\n",
    "\n",
    "outDir=\"data\"\n",
    "\n",
    "\n",
    "\n",
    "with h5py.File(f'{outDir}/firstpass_{pTotal}.h5','w') as patientData:\n",
    "    for pNum in range(1,pTotal): # change 3 to 500 or however many # in Breast_MRI_###\n",
    "        patientDir=f\"{baseDir}/Breast_MRI_{str(pNum).zfill(3)}\"\n",
    "        if os.path.exists(f\"{patientDir}\") and os.path.isdir(f\"{patientDir}\"):\n",
    "            if len(os.listdir(patientDir)) ==1:\n",
    "                scanType=os.listdir(patientDir)[0]\n",
    "                images=[]\n",
    "                readFail=False\n",
    "                for scanLabel in os.listdir(f\"{patientDir}/{scanType}\"):\n",
    "                    if os.path.isdir(f\"{patientDir}/{scanType}/{scanLabel}\") and ('ph1' in scanLabel.lower() or '1st' in scanLabel.lower() or 'firstpass' in scanLabel.lower()):\n",
    "                        #images=[]\n",
    "                        zCords=[]\n",
    "                        for dcmFile in os.listdir(f\"{patientDir}/{scanType}/{scanLabel}\"):\n",
    "                            ### we should be able to rely on alphanumeric order to retain consistency in volumetric ordering,\n",
    "                            ### but if that's not always true, we can find the max number and increment through a range with zfill padding\n",
    "                            filePath=f\"{patientDir}/{scanType}/{scanLabel}/{dcmFile}\"\n",
    "                            if dcmFile[-3:]=='dcm' and not readFail:\n",
    "                                try:\n",
    "                                    im = imageio.imread(f'{filePath}')\n",
    "                                    images.append(np.asarray(im))\n",
    "                                    if len(zCords)<2:\n",
    "                                        if 'ImagePositionPatient' in im._meta and len(im._meta['ImagePositionPatient'])==3:\n",
    "                                            zCords.append(im._meta['ImagePositionPatient'][2])\n",
    "                                except:\n",
    "                                    readFail=True\n",
    "                                    print(f\"error with file {filePath}\\n\\n\")\n",
    "                        images=np.asarray(images)\n",
    "                        if images.max()!=0:\n",
    "                            images=(images-images.min())/(images.max()-images.min())\n",
    "                            \n",
    "                        else:\n",
    "                            images=[]\n",
    "                        if len(zCords)==2: ## do this after L,R bounding box \n",
    "                            if zCords[0]-zCords[1]>0:\n",
    "                                images=images[::-1,:,:] #standardize top-down slice orientation\n",
    "                        else:\n",
    "                            print(f\"zCords!=2 for {patientDir}\")\n",
    "\n",
    "                if type(images)!=list and not readFail:\n",
    "                    grp=patientData.create_group(f\"{pNum}\")\n",
    "                    grp.attrs['shape']=images.shape\n",
    "                    grp.create_dataset('data',data=images.astype(np.float16),compression=\"gzip\", compression_opts=4)\n",
    "                #patientData.append(images)\n",
    "            else:\n",
    "                print(f\"multiple scanTypes for patient {patientDir}\")\n",
    "        else:\n",
    "            print(f\"folder error for patient {patientDir}\")\n",
    "\n"
   ]
  },
  {
   "cell_type": "code",
   "execution_count": 3,
   "metadata": {},
   "outputs": [
    {
     "name": "stderr",
     "output_type": "stream",
     "text": [
      "C:\\Users\\savio\\AppData\\Local\\Temp\\ipykernel_26692\\4252793932.py:48: DeprecationWarning: Starting with ImageIO v3 the behavior of this function will switch to that of iio.v3.imread. To keep the current behavior (and make this warning disappear) use `import imageio.v2 as imageio` or call `imageio.v2.imread` directly.\n",
      "  im = imageio.imread(f'{filePath}')\n"
     ]
    },
    {
     "name": "stdout",
     "output_type": "stream",
     "text": [
      "[151.   366.25 237.  ]\n"
     ]
    }
   ],
   "source": [
    "metaDir=\"../duke\"\n",
    "\n",
    "boundingBoxXL=openpyxl.load_workbook(f\"{metaDir}/Annotation_Boxes.xlsx\")\n",
    "interestSheet=boundingBoxXL[boundingBoxXL.sheetnames[0]] #B2:B start_row, C2:C end_row \n",
    "\n",
    "patientBoundBoxCol=dict()\n",
    "for i in range(2,interestSheet.max_row+1):\n",
    "    if type(interestSheet[f\"A{i}\"].value) == str is not None and \"breast_mri_\" in interestSheet[f\"A{i}\"].value.lower()\\\n",
    "    and type(interestSheet[f\"D{i}\"].value)==int and type(interestSheet[f\"E{i}\"].value)==int:\n",
    "        patientBoundBoxCol[str(int(interestSheet[f\"A{i}\"].value.split(\"_\")[-1]))]=(interestSheet[f\"D{i}\"].value,interestSheet[f\"E{i}\"].value)\n",
    "\n",
    "\n",
    "boundingBoxXL.close()\n",
    "\n",
    "midOverlapKeys=set()\n",
    "\n",
    "baseDir=\"../duke/Breast_MRI_002\"\n",
    "\n",
    "\n",
    "boundBoxFinals=[]\n",
    "\n",
    "normalizeLR=True\n",
    "\n",
    "outDir=\"data\"\n",
    "\n",
    "lowerBound=.20\n",
    "\n",
    "with h5py.File(f'{outDir}/FP_LRnorm_crop_point{int(lowerBound*100)}Thresh.h5','w') as patientData:\n",
    "    for pDir in os.listdir(baseDir):\n",
    "        patientDir=f\"{baseDir}/{pDir}\"\n",
    "        if pDir.split(\"_\")[-1].isnumeric():\n",
    "            pNum=int(pDir.split(\"_\")[-1]) \n",
    "            key=str(pNum)# use str to access patientBoundBoxCol\n",
    "            if len(os.listdir(patientDir)) ==1:\n",
    "                scanType=os.listdir(patientDir)[0]\n",
    "                images=[]\n",
    "                readFail=False\n",
    "                for scanLabel in os.listdir(f\"{patientDir}/{scanType}\"):\n",
    "                    if os.path.isdir(f\"{patientDir}/{scanType}/{scanLabel}\") and ('ph1' in scanLabel.lower() or '1st' in scanLabel.lower() or 'firstpass' in scanLabel.lower()):\n",
    "                        #images=[]\n",
    "                        zCords=[]\n",
    "                        for dcmFile in os.listdir(f\"{patientDir}/{scanType}/{scanLabel}\"):\n",
    "                            ### we should be able to rely on alphanumeric order to retain consistency in volumetric ordering,\n",
    "                            ### but if that's not always true, we can find the max number and increment through a range with zfill padding\n",
    "                            filePath=f\"{patientDir}/{scanType}/{scanLabel}/{dcmFile}\"\n",
    "                            if dcmFile[-3:]=='dcm' and not readFail:\n",
    "                                try:\n",
    "                                    im = imageio.imread(f'{filePath}')\n",
    "                                    images.append(np.asarray(im))\n",
    "                                    if len(zCords)<2:\n",
    "                                        if 'ImagePositionPatient' in im._meta and len(im._meta['ImagePositionPatient'])==3:\n",
    "                                            zCords.append(im._meta['ImagePositionPatient'][2])\n",
    "                                except:\n",
    "                                    readFail=True\n",
    "                                    print(f\"error with file {filePath}\\n\\n\")\n",
    "                        images=np.asarray(images)\n",
    "                        \n",
    "                        ##crop: find Boundbox>thresh, but do not crop yet\n",
    "                        ## first, flip on rows if\n",
    "\n",
    "                        if not readFail and images.max()!=0:\n",
    "                            grp=patientData.create_group(key)\n",
    "\n",
    "                            images=(images-images.min())/(images.max()-images.min())\n",
    "                            images=images.astype(np.float16)\n",
    "                            midCol=images.shape[2]//2\n",
    "                            xs,ys,zs = np.where(images>lowerBound)  \n",
    "                            if np.min(ys)<images.shape[1]-np.max(ys): # flip rows\n",
    "                                images = images[:,::-1,:]\n",
    "                                grp.attrs['flipRows']=True\n",
    "                            else:\n",
    "                                grp.attrs['flipRows']=False\n",
    "                            if len(zCords)==2: ## do this after L,R bounding box \n",
    "                                if zCords[0]-zCords[1]>0:\n",
    "                                    images=images[::-1,:,:] #standardize top-down slice orientation\n",
    "                                    grp.attrs['flipZ']=True\n",
    "                                else:\n",
    "                                    grp.attrs['flipZ']=False\n",
    "                            else:\n",
    "                                print(f\"zCords!=2 for {patientDir}\")\n",
    "                            if (patientBoundBoxCol[key][0]<midCol and patientBoundBoxCol[key][1]<midCol) or (patientBoundBoxCol[key][0]>midCol and patientBoundBoxCol[key][1]>midCol): #not in middle\n",
    "                                imageL=images[:,:,:midCol]\n",
    "                                imageR=images[:,:,midCol:]\n",
    "                                if normalizeLR:\n",
    "                                    imageL=(imageL-imageL.min())/(imageL.max()-imageL.min())\n",
    "                                    imageR=(imageR-imageR.min())/(imageR.max()-imageR.min())\n",
    "                                imageLR=[imageL,imageR]\n",
    "                                for im in range(len(imageLR)):\n",
    "                                    xs,ys,zs = np.where(imageLR[im]>lowerBound)\n",
    "                                    boundingBox=[[np.min(xs),np.max(xs)+1],[np.min(ys),np.max(ys)+1],[np.min(zs),np.max(zs)+1]]\n",
    "                                    boundBoxFinals.append([bb[1]-bb[0] for bb in boundingBox])\n",
    "                                    imageLR[im]=imageLR[im][boundingBox[0][0]:boundingBox[0][1],boundingBox[1][0]:boundingBox[1][1],boundingBox[2][0]:boundingBox[2][1]]\n",
    "\n",
    "                                grp.create_dataset('L',data=imageLR[0],compression=\"gzip\", compression_opts=6)\n",
    "                                grp.create_dataset('R',data=imageLR[1],compression=\"gzip\", compression_opts=6)\n",
    "                                ### check if L or R, then apply grp.attrs['LRflag']=[1,0] or [0,1]\n",
    "                                if (patientBoundBoxCol[key][0]<midCol and patientBoundBoxCol[key][1]<midCol):\n",
    "                                    grp.attrs['LRflag']=np.array([1,0])\n",
    "                                else:\n",
    "                                    grp.attrs['LRflag']=np.array([0,1])\n",
    "                            else:\n",
    "                                midOverlapKeys.add(key)\n",
    "\n",
    "                        else:\n",
    "                            print(f\"max==0 for {patientDir}\")\n",
    "                            images=[]\n",
    "\n",
    "            else:\n",
    "                print(f\"multiple scanTypes for patient {patientDir}\")\n",
    "        else:\n",
    "            print(f'skipping {patientDir}')\n",
    "boundBoxFinals=np.asarray(boundBoxFinals)\n",
    "resizeAvg=boundBoxFinals.mean(axis=0)\n",
    "print(resizeAvg)"
   ]
  },
  {
   "cell_type": "code",
   "execution_count": 3,
   "metadata": {},
   "outputs": [
    {
     "data": {
      "text/plain": [
       "{'_meta': Dict([('TransferSyntaxUID', '1.2.840.10008.1.2'),\n",
       "       ('SOPClassUID', '1.2.840.10008.5.1.4.1.1.4'),\n",
       "       ('SOPInstanceUID',\n",
       "        '1.3.6.1.4.1.14519.5.2.1.166167459668020911967426103852661419302'),\n",
       "       ('StudyDate', '19900101'),\n",
       "       ('SeriesDate', '19900101'),\n",
       "       ('AcquisitionDate', '19900101'),\n",
       "       ('ContentDate', '19900101'),\n",
       "       ('StudyTime', '141519'),\n",
       "       ('SeriesTime', '150154'),\n",
       "       ('AcquisitionTime', '150237'),\n",
       "       ('ContentTime', '150237'),\n",
       "       ('Modality', 'MR'),\n",
       "       ('Manufacturer', 'GE MEDICAL SYSTEMS'),\n",
       "       ('StudyDescription', 'MRI BREAST BILATERAL W + W/O'),\n",
       "       ('SeriesDescription', 'Ph1/ax 3d dyn'),\n",
       "       ('PatientName', 'Breast_MRI_002'),\n",
       "       ('PatientID', 'Breast_MRI_002'),\n",
       "       ('PatientBirthDate', ''),\n",
       "       ('PatientSex', ''),\n",
       "       ('SliceSpacing', 1.3),\n",
       "       ('StudyInstanceUID',\n",
       "        '1.3.6.1.4.1.14519.5.2.1.29344851079648912610491979642001151972'),\n",
       "       ('SeriesInstanceUID',\n",
       "        '1.3.6.1.4.1.14519.5.2.1.170238633411519508623458796561571936797'),\n",
       "       ('SeriesNumber', 601),\n",
       "       ('AcquisitionNumber', 1),\n",
       "       ('InstanceNumber', 142),\n",
       "       ('ImagePositionPatient', (154.724, 176.048, -88.723)),\n",
       "       ('ImageOrientationPatient', (-1.0, 0.0, 0.0, 0.0, -1.0, 0.0)),\n",
       "       ('SamplesPerPixel', 1),\n",
       "       ('Rows', 512),\n",
       "       ('Columns', 512),\n",
       "       ('PixelSpacing', (0.5859, 0.5859)),\n",
       "       ('BitsAllocated', 16),\n",
       "       ('BitsStored', 16),\n",
       "       ('HighBit', 15),\n",
       "       ('PixelRepresentation', 1),\n",
       "       ('PixelData',\n",
       "        b'Data converted to numpy array, raw data removed to preserve memory'),\n",
       "       ('shape', (512, 512)),\n",
       "       ('sampling', (0.5859, 0.5859))])}"
      ]
     },
     "execution_count": 3,
     "metadata": {},
     "output_type": "execute_result"
    }
   ],
   "source": [
    "vars(im)"
   ]
  },
  {
   "cell_type": "code",
   "execution_count": 7,
   "metadata": {},
   "outputs": [
    {
     "data": {
      "text/plain": [
       "(154.724, 176.048, -88.723)"
      ]
     },
     "execution_count": 7,
     "metadata": {},
     "output_type": "execute_result"
    }
   ],
   "source": [
    "im._meta['ImagePositionPatient']"
   ]
  },
  {
   "cell_type": "code",
   "execution_count": null,
   "metadata": {},
   "outputs": [],
   "source": []
  },
  {
   "cell_type": "code",
   "execution_count": null,
   "metadata": {},
   "outputs": [],
   "source": []
  }
 ],
 "metadata": {
  "kernelspec": {
   "display_name": "base",
   "language": "python",
   "name": "python3"
  },
  "language_info": {
   "codemirror_mode": {
    "name": "ipython",
    "version": 3
   },
   "file_extension": ".py",
   "mimetype": "text/x-python",
   "name": "python",
   "nbconvert_exporter": "python",
   "pygments_lexer": "ipython3",
   "version": "3.11.5"
  }
 },
 "nbformat": 4,
 "nbformat_minor": 2
}
