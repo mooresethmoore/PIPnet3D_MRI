{
 "cells": [
  {
   "cell_type": "code",
   "execution_count": 42,
   "metadata": {},
   "outputs": [],
   "source": [
    "import argparse\n",
    "import os\n",
    "import sys\n",
    "import math\n",
    "import numpy as np\n",
    "import SimpleITK as sitk\n",
    "import random\n",
    "import pandas as pd\n",
    "from typing import Tuple, Dict\n",
    "\n",
    "import torch\n",
    "from torch import Tensor\n",
    "import torch.nn as nn\n",
    "import torch.optim\n",
    "import torch.utils.data\n",
    "import torchvision\n",
    "import torchvision.transforms as transforms\n",
    "\n",
    "from monai.transforms import (\n",
    "    Compose,\n",
    "    Resize,\n",
    "    RandRotate,\n",
    "    Affine,\n",
    "    RandGaussianNoise,\n",
    "    RandZoom,\n",
    "    RepeatChannel,\n",
    ")\n",
    "current_dir = os.path.dirname(os.path.realpath('__file__'))\n",
    "data_dir = os.path.join(current_dir, 'data')\n",
    "from training_pipnet_LR import get_network,get_optimizer_nn\n",
    "sys.path.append(data_dir)\n",
    "#from make_dataset import get_dataloaders\n",
    "import make_dataset_LR\n",
    "from make_dataset_LR import get_dataloaders,getAllDataloader,getAllDataset\n",
    "# Construct the path to the models directory\n",
    "models_dir = os.path.join(current_dir, 'models')\n",
    "\n",
    "# Add the models directory to sys.path\n",
    "sys.path.append(models_dir)\n",
    "from resnet_features import video_resnet18_features\n",
    "from pipnet import PIPNet,NonNegLinear\n",
    "from train_model_custom import train_pipnet\n",
    "\n",
    "from test_model import eval_pipnet\n",
    "\n",
    "\n",
    "import plotly.graph_objects as go\n",
    "import xarray as xr\n",
    "import plotly.express as px\n",
    "\n",
    "from sklearn.model_selection import train_test_split\n",
    "from sklearn.model_selection import StratifiedKFold\n",
    "import joblib\n",
    "import h5py\n",
    "import openpyxl\n",
    "from openpyxl import Workbook\n",
    "import matplotlib.pyplot as plt\n",
    "import matplotlib.cm as cm"
   ]
  },
  {
   "cell_type": "code",
   "execution_count": 16,
   "metadata": {},
   "outputs": [],
   "source": [
    "def sliceViewer(images,labels, key: str, title: str, height:int):\n",
    "    \"\"\"\n",
    "    \n",
    "    \"\"\"\n",
    "    if len(images.shape)==3:\n",
    "        newIm=RepeatChannel(3)(images.unsqueeze(0))\n",
    "        newIm=torch.moveaxis(newIm,[0,1,2,3],[-1,0,1,2])\n",
    "    else:\n",
    "        newIm=images\n",
    "    xrData = xr.DataArray(\n",
    "        data   = newIm,\n",
    "        dims   = [key, 'row', 'col', 'rgb'],\n",
    "        coords = {key: labels}\n",
    "    )\n",
    "    # Hide the axes\n",
    "    #layout_dict = dict(yaxis_visible=False, yaxis_showticklabels=False, xaxis_visible=False, xaxis_showticklabels=False)\n",
    "    layout_dict=dict()\n",
    "    return px.imshow(xrData, title=title, animation_frame=key).update_layout(layout_dict)"
   ]
  },
  {
   "cell_type": "code",
   "execution_count": 13,
   "metadata": {},
   "outputs": [],
   "source": [
    "inputData='data/syntheticData_balls_LR.h5'\n",
    "outputFile='data/syntheticData_balls_LR_fixed.h5'\n",
    "with h5py.File(inputData, 'r') as f:\n",
    "    shapesL=[f[k]['L'][:].shape for k in f.keys()]\n",
    "    shapesR=[f[k]['R'][:].shape for k in f.keys()]"
   ]
  },
  {
   "cell_type": "code",
   "execution_count": 14,
   "metadata": {},
   "outputs": [
    {
     "data": {
      "text/plain": [
       "(54, 121, 74)"
      ]
     },
     "execution_count": 14,
     "metadata": {},
     "output_type": "execute_result"
    }
   ],
   "source": [
    "finalShape=shapesR[0]\n",
    "finalShape"
   ]
  },
  {
   "cell_type": "code",
   "execution_count": 15,
   "metadata": {},
   "outputs": [
    {
     "data": {
      "text/plain": [
       "(121, 54, 74)"
      ]
     },
     "execution_count": 15,
     "metadata": {},
     "output_type": "execute_result"
    }
   ],
   "source": [
    "shapesL[0]"
   ]
  },
  {
   "cell_type": "code",
   "execution_count": 16,
   "metadata": {},
   "outputs": [],
   "source": [
    "inputData='data/syntheticData_balls_LR.h5'\n",
    "outputFile='data/syntheticData_balls_LR_fixed.h5'\n",
    "with h5py.File(f'{outputFile}','w') as patientData:\n",
    "    with h5py.File(inputData, 'r') as f:\n",
    "        for k in f.keys():\n",
    "            grp=patientData.create_group(k)\n",
    "            grp.attrs['LRflag']=f[k].attrs['LRflag']\n",
    "            grp.create_dataset(\"L\",data=np.moveaxis(f[k][\"L\"][:],[0,1,2],[1,0,2]).astype(np.float32),compression=\"gzip\", compression_opts=6)\n",
    "            grp.create_dataset(\"R\",data=f[k][\"R\"][:].astype(np.float32),compression=\"gzip\", compression_opts=6)\n"
   ]
  },
  {
   "cell_type": "code",
   "execution_count": null,
   "metadata": {},
   "outputs": [],
   "source": []
  },
  {
   "cell_type": "code",
   "execution_count": null,
   "metadata": {},
   "outputs": [],
   "source": []
  },
  {
   "cell_type": "markdown",
   "metadata": {},
   "source": [
    "## Testing network throughput issues"
   ]
  },
  {
   "cell_type": "code",
   "execution_count": 19,
   "metadata": {},
   "outputs": [
    {
     "name": "stdout",
     "output_type": "stream",
     "text": [
      "<KeysViewHDF5 ['0', '1', '10', '100', '101', '102', '103', '104', '105', '106', '107', '108', '109', '11', '110', '111', '112', '113', '114', '115', '116', '117', '118', '119', '12', '120', '121', '122', '123', '124', '125', '126', '127', '128', '129', '13', '130', '131', '132', '133', '134', '135', '136', '137', '138', '139', '14', '140', '141', '142', '143', '144', '145', '146', '147', '148', '149', '15', '150', '151', '152', '153', '154', '155', '156', '157', '158', '159', '16', '160', '161', '162', '163', '164', '165', '166', '167', '168', '169', '17', '170', '171', '172', '173', '174', '175', '176', '177', '178', '179', '18', '180', '181', '182', '183', '184', '185', '186', '187', '188', '189', '19', '190', '191', '192', '193', '194', '195', '196', '197', '198', '199', '2', '20', '200', '201', '202', '203', '204', '205', '206', '207', '208', '209', '21', '210', '211', '212', '213', '214', '215', '216', '217', '218', '219', '22', '220', '221', '222', '223', '224', '225', '226', '227', '228', '229', '23', '230', '231', '232', '233', '234', '235', '236', '237', '238', '239', '24', '240', '241', '242', '243', '244', '245', '246', '247', '248', '249', '25', '250', '251', '252', '253', '254', '255', '256', '257', '258', '259', '26', '260', '261', '262', '263', '264', '265', '266', '267', '268', '269', '27', '270', '271', '272', '273', '274', '275', '276', '277', '278', '279', '28', '280', '281', '282', '283', '284', '285', '286', '287', '288', '289', '29', '290', '291', '292', '293', '294', '295', '296', '297', '298', '299', '3', '30', '300', '301', '302', '303', '304', '305', '306', '307', '308', '309', '31', '310', '311', '312', '313', '314', '315', '316', '317', '318', '319', '32', '320', '321', '322', '323', '324', '325', '326', '327', '328', '329', '33', '330', '331', '332', '333', '334', '335', '336', '337', '338', '339', '34', '340', '341', '342', '343', '344', '345', '346', '347', '348', '349', '35', '350', '351', '352', '353', '354', '355', '356', '357', '358', '359', '36', '360', '361', '362', '363', '364', '365', '366', '367', '368', '369', '37', '370', '371', '372', '373', '374', '375', '376', '377', '378', '379', '38', '380', '381', '382', '383', '384', '385', '386', '387', '388', '389', '39', '390', '391', '392', '393', '394', '395', '396', '397', '398', '399', '4', '40', '400', '401', '402', '403', '404', '405', '406', '407', '408', '409', '41', '410', '411', '412', '413', '414', '415', '416', '417', '418', '419', '42', '420', '421', '422', '423', '424', '425', '426', '427', '428', '429', '43', '430', '431', '432', '433', '434', '435', '436', '437', '438', '439', '44', '440', '441', '442', '443', '444', '445', '446', '447', '448', '449', '45', '450', '451', '452', '453', '454', '455', '456', '457', '458', '459', '46', '460', '461', '462', '463', '464', '465', '466', '467', '468', '469', '47', '470', '471', '472', '473', '474', '475', '476', '477', '478', '479', '48', '480', '481', '482', '483', '484', '485', '486', '487', '488', '489', '49', '490', '491', '492', '493', '494', '495', '496', '497', '498', '499', '5', '50', '500', '501', '502', '503', '504', '505', '506', '507', '508', '509', '51', '510', '511', '512', '513', '514', '515', '516', '517', '518', '519', '52', '520', '521', '522', '523', '524', '525', '526', '527', '528', '529', '53', '530', '531', '532', '533', '534', '535', '536', '537', '538', '539', '54', '540', '541', '542', '543', '544', '545', '546', '547', '548', '549', '55', '550', '551', '552', '553', '554', '555', '556', '557', '558', '559', '56', '560', '561', '562', '563', '564', '565', '566', '567', '568', '569', '57', '570', '571', '572', '573', '574', '575', '576', '577', '578', '579', '58', '580', '581', '582', '583', '584', '585', '586', '587', '588', '589', '59', '590', '591', '592', '593', '594', '595', '596', '597', '598', '599', '6', '60', '600', '601', '602', '603', '604', '605', '606', '607', '608', '609', '61', '610', '611', '62', '63', '64', '65', '66', '67', '68', '69', '7', '70', '71', '72', '73', '74', '75', '76', '77', '78', '79', '8', '80', '81', '82', '83', '84', '85', '86', '87', '88', '89', '9', '90', '91', '92', '93', '94', '95', '96', '97', '98', '99']>\n"
     ]
    }
   ],
   "source": [
    "inputData='data/syntheticData_balls_LR_fixed.h5'\n",
    "with h5py.File(inputData, 'r') as f:\n",
    "    keys=f.keys()\n",
    "    print(keys)\n",
    "    k='10'    \n",
    "    LRflag=f[k].attrs['LRflag']\n",
    "    datLR=[f[k][\"L\"][:],f[k][\"R\"][:]]\n",
    "\n"
   ]
  },
  {
   "cell_type": "code",
   "execution_count": 34,
   "metadata": {},
   "outputs": [
    {
     "data": {
      "text/plain": [
       "torch.Size([3, 54, 121, 74])"
      ]
     },
     "execution_count": 34,
     "metadata": {},
     "output_type": "execute_result"
    }
   ],
   "source": [
    "#arr,label=torch.tensor(datLR[LRflag[0]]).unsqueeze(0),0 # always guarantees empty scan\n",
    "arr,label=torch.tensor(datLR[0]).unsqueeze(0),LRflag[0] # always guarantees empty scan\n",
    "arr=RepeatChannel(repeats=3)(arr)\n",
    "arr.shape"
   ]
  },
  {
   "cell_type": "code",
   "execution_count": 35,
   "metadata": {},
   "outputs": [
    {
     "data": {
      "application/vnd.plotly.v1+json": {
       "config": {
        "plotlyServerURL": "https://plot.ly"
       },
       "data": [
        {
         "dx": 1,
         "dy": 1,
         "hovertemplate": "col: %{x}<br>row: %{y}<extra></extra>",
         "name": "0",
         "source": "data:image/png;base64,iVBORw0KGgoAAAANSUhEUgAAAEoAAAB5CAIAAAARXCAlAAAAMUlEQVR4Xu3BMQEAAADCoPVPbQ0PoAAAAAAAAAAAAAAAAAAAAAAAAAAAAAAAAAAALg1pZwABE1Fk9QAAAABJRU5ErkJggg==",
         "type": "image",
         "x0": 0,
         "xaxis": "x",
         "y0": 0,
         "yaxis": "y"
        }
       ],
       "frames": [
        {
         "data": [
          {
           "dx": 1,
           "dy": 1,
           "name": "0",
           "source": "data:image/png;base64,iVBORw0KGgoAAAANSUhEUgAAAEoAAAB5CAIAAAARXCAlAAAAMUlEQVR4Xu3BMQEAAADCoPVPbQ0PoAAAAAAAAAAAAAAAAAAAAAAAAAAAAAAAAAAALg1pZwABE1Fk9QAAAABJRU5ErkJggg==",
           "type": "image",
           "x0": 0,
           "y0": 0
          }
         ],
         "layout": {
          "title": {
           "text": "test"
          }
         },
         "name": "0"
        },
        {
         "data": [
          {
           "dx": 1,
           "dy": 1,
           "name": "1",
           "source": "data:image/png;base64,iVBORw0KGgoAAAANSUhEUgAAAEoAAAB5CAIAAAARXCAlAAAAMUlEQVR4Xu3BMQEAAADCoPVPbQ0PoAAAAAAAAAAAAAAAAAAAAAAAAAAAAAAAAAAALg1pZwABE1Fk9QAAAABJRU5ErkJggg==",
           "type": "image",
           "x0": 0,
           "y0": 0
          }
         ],
         "layout": {
          "title": {
           "text": "test"
          }
         },
         "name": "1"
        },
        {
         "data": [
          {
           "dx": 1,
           "dy": 1,
           "name": "2",
           "source": "data:image/png;base64,iVBORw0KGgoAAAANSUhEUgAAAEoAAAB5CAIAAAARXCAlAAAAMUlEQVR4Xu3BMQEAAADCoPVPbQ0PoAAAAAAAAAAAAAAAAAAAAAAAAAAAAAAAAAAALg1pZwABE1Fk9QAAAABJRU5ErkJggg==",
           "type": "image",
           "x0": 0,
           "y0": 0
          }
         ],
         "layout": {
          "title": {
           "text": "test"
          }
         },
         "name": "2"
        },
        {
         "data": [
          {
           "dx": 1,
           "dy": 1,
           "name": "3",
           "source": "data:image/png;base64,iVBORw0KGgoAAAANSUhEUgAAAEoAAAB5CAIAAAARXCAlAAAAMUlEQVR4Xu3BMQEAAADCoPVPbQ0PoAAAAAAAAAAAAAAAAAAAAAAAAAAAAAAAAAAALg1pZwABE1Fk9QAAAABJRU5ErkJggg==",
           "type": "image",
           "x0": 0,
           "y0": 0
          }
         ],
         "layout": {
          "title": {
           "text": "test"
          }
         },
         "name": "3"
        },
        {
         "data": [
          {
           "dx": 1,
           "dy": 1,
           "name": "4",
           "source": "data:image/png;base64,iVBORw0KGgoAAAANSUhEUgAAAEoAAAB5CAIAAAARXCAlAAAAMUlEQVR4Xu3BMQEAAADCoPVPbQ0PoAAAAAAAAAAAAAAAAAAAAAAAAAAAAAAAAAAALg1pZwABE1Fk9QAAAABJRU5ErkJggg==",
           "type": "image",
           "x0": 0,
           "y0": 0
          }
         ],
         "layout": {
          "title": {
           "text": "test"
          }
         },
         "name": "4"
        },
        {
         "data": [
          {
           "dx": 1,
           "dy": 1,
           "name": "5",
           "source": "data:image/png;base64,iVBORw0KGgoAAAANSUhEUgAAAEoAAAB5CAIAAAARXCAlAAAAMUlEQVR4Xu3BMQEAAADCoPVPbQ0PoAAAAAAAAAAAAAAAAAAAAAAAAAAAAAAAAAAALg1pZwABE1Fk9QAAAABJRU5ErkJggg==",
           "type": "image",
           "x0": 0,
           "y0": 0
          }
         ],
         "layout": {
          "title": {
           "text": "test"
          }
         },
         "name": "5"
        },
        {
         "data": [
          {
           "dx": 1,
           "dy": 1,
           "name": "6",
           "source": "data:image/png;base64,iVBORw0KGgoAAAANSUhEUgAAAEoAAAB5CAIAAAARXCAlAAAAMUlEQVR4Xu3BMQEAAADCoPVPbQ0PoAAAAAAAAAAAAAAAAAAAAAAAAAAAAAAAAAAALg1pZwABE1Fk9QAAAABJRU5ErkJggg==",
           "type": "image",
           "x0": 0,
           "y0": 0
          }
         ],
         "layout": {
          "title": {
           "text": "test"
          }
         },
         "name": "6"
        },
        {
         "data": [
          {
           "dx": 1,
           "dy": 1,
           "name": "7",
           "source": "data:image/png;base64,iVBORw0KGgoAAAANSUhEUgAAAEoAAAB5CAIAAAARXCAlAAAAMUlEQVR4Xu3BMQEAAADCoPVPbQ0PoAAAAAAAAAAAAAAAAAAAAAAAAAAAAAAAAAAALg1pZwABE1Fk9QAAAABJRU5ErkJggg==",
           "type": "image",
           "x0": 0,
           "y0": 0
          }
         ],
         "layout": {
          "title": {
           "text": "test"
          }
         },
         "name": "7"
        },
        {
         "data": [
          {
           "dx": 1,
           "dy": 1,
           "name": "8",
           "source": "data:image/png;base64,iVBORw0KGgoAAAANSUhEUgAAAEoAAAB5CAIAAAARXCAlAAAAMUlEQVR4Xu3BMQEAAADCoPVPbQ0PoAAAAAAAAAAAAAAAAAAAAAAAAAAAAAAAAAAALg1pZwABE1Fk9QAAAABJRU5ErkJggg==",
           "type": "image",
           "x0": 0,
           "y0": 0
          }
         ],
         "layout": {
          "title": {
           "text": "test"
          }
         },
         "name": "8"
        },
        {
         "data": [
          {
           "dx": 1,
           "dy": 1,
           "name": "9",
           "source": "data:image/png;base64,iVBORw0KGgoAAAANSUhEUgAAAEoAAAB5CAIAAAARXCAlAAAAMUlEQVR4Xu3BMQEAAADCoPVPbQ0PoAAAAAAAAAAAAAAAAAAAAAAAAAAAAAAAAAAALg1pZwABE1Fk9QAAAABJRU5ErkJggg==",
           "type": "image",
           "x0": 0,
           "y0": 0
          }
         ],
         "layout": {
          "title": {
           "text": "test"
          }
         },
         "name": "9"
        },
        {
         "data": [
          {
           "dx": 1,
           "dy": 1,
           "name": "10",
           "source": "data:image/png;base64,iVBORw0KGgoAAAANSUhEUgAAAEoAAAB5CAIAAAARXCAlAAAAMUlEQVR4Xu3BMQEAAADCoPVPbQ0PoAAAAAAAAAAAAAAAAAAAAAAAAAAAAAAAAAAALg1pZwABE1Fk9QAAAABJRU5ErkJggg==",
           "type": "image",
           "x0": 0,
           "y0": 0
          }
         ],
         "layout": {
          "title": {
           "text": "test"
          }
         },
         "name": "10"
        },
        {
         "data": [
          {
           "dx": 1,
           "dy": 1,
           "name": "11",
           "source": "data:image/png;base64,iVBORw0KGgoAAAANSUhEUgAAAEoAAAB5CAIAAAARXCAlAAAAMUlEQVR4Xu3BMQEAAADCoPVPbQ0PoAAAAAAAAAAAAAAAAAAAAAAAAAAAAAAAAAAALg1pZwABE1Fk9QAAAABJRU5ErkJggg==",
           "type": "image",
           "x0": 0,
           "y0": 0
          }
         ],
         "layout": {
          "title": {
           "text": "test"
          }
         },
         "name": "11"
        },
        {
         "data": [
          {
           "dx": 1,
           "dy": 1,
           "name": "12",
           "source": "data:image/png;base64,iVBORw0KGgoAAAANSUhEUgAAAEoAAAB5CAIAAAARXCAlAAAAMUlEQVR4Xu3BMQEAAADCoPVPbQ0PoAAAAAAAAAAAAAAAAAAAAAAAAAAAAAAAAAAALg1pZwABE1Fk9QAAAABJRU5ErkJggg==",
           "type": "image",
           "x0": 0,
           "y0": 0
          }
         ],
         "layout": {
          "title": {
           "text": "test"
          }
         },
         "name": "12"
        },
        {
         "data": [
          {
           "dx": 1,
           "dy": 1,
           "name": "13",
           "source": "data:image/png;base64,iVBORw0KGgoAAAANSUhEUgAAAEoAAAB5CAIAAAARXCAlAAAAMUlEQVR4Xu3BMQEAAADCoPVPbQ0PoAAAAAAAAAAAAAAAAAAAAAAAAAAAAAAAAAAALg1pZwABE1Fk9QAAAABJRU5ErkJggg==",
           "type": "image",
           "x0": 0,
           "y0": 0
          }
         ],
         "layout": {
          "title": {
           "text": "test"
          }
         },
         "name": "13"
        },
        {
         "data": [
          {
           "dx": 1,
           "dy": 1,
           "name": "14",
           "source": "data:image/png;base64,iVBORw0KGgoAAAANSUhEUgAAAEoAAAB5CAIAAAARXCAlAAAAMUlEQVR4Xu3BMQEAAADCoPVPbQ0PoAAAAAAAAAAAAAAAAAAAAAAAAAAAAAAAAAAALg1pZwABE1Fk9QAAAABJRU5ErkJggg==",
           "type": "image",
           "x0": 0,
           "y0": 0
          }
         ],
         "layout": {
          "title": {
           "text": "test"
          }
         },
         "name": "14"
        },
        {
         "data": [
          {
           "dx": 1,
           "dy": 1,
           "name": "15",
           "source": "data:image/png;base64,iVBORw0KGgoAAAANSUhEUgAAAEoAAAB5CAIAAAARXCAlAAAAMUlEQVR4Xu3BMQEAAADCoPVPbQ0PoAAAAAAAAAAAAAAAAAAAAAAAAAAAAAAAAAAALg1pZwABE1Fk9QAAAABJRU5ErkJggg==",
           "type": "image",
           "x0": 0,
           "y0": 0
          }
         ],
         "layout": {
          "title": {
           "text": "test"
          }
         },
         "name": "15"
        },
        {
         "data": [
          {
           "dx": 1,
           "dy": 1,
           "name": "16",
           "source": "data:image/png;base64,iVBORw0KGgoAAAANSUhEUgAAAEoAAAB5CAIAAAARXCAlAAAAMUlEQVR4Xu3BMQEAAADCoPVPbQ0PoAAAAAAAAAAAAAAAAAAAAAAAAAAAAAAAAAAALg1pZwABE1Fk9QAAAABJRU5ErkJggg==",
           "type": "image",
           "x0": 0,
           "y0": 0
          }
         ],
         "layout": {
          "title": {
           "text": "test"
          }
         },
         "name": "16"
        },
        {
         "data": [
          {
           "dx": 1,
           "dy": 1,
           "name": "17",
           "source": "data:image/png;base64,iVBORw0KGgoAAAANSUhEUgAAAEoAAAB5CAIAAAARXCAlAAAAMUlEQVR4Xu3BMQEAAADCoPVPbQ0PoAAAAAAAAAAAAAAAAAAAAAAAAAAAAAAAAAAALg1pZwABE1Fk9QAAAABJRU5ErkJggg==",
           "type": "image",
           "x0": 0,
           "y0": 0
          }
         ],
         "layout": {
          "title": {
           "text": "test"
          }
         },
         "name": "17"
        },
        {
         "data": [
          {
           "dx": 1,
           "dy": 1,
           "name": "18",
           "source": "data:image/png;base64,iVBORw0KGgoAAAANSUhEUgAAAEoAAAB5CAIAAAARXCAlAAAAMUlEQVR4Xu3BMQEAAADCoPVPbQ0PoAAAAAAAAAAAAAAAAAAAAAAAAAAAAAAAAAAALg1pZwABE1Fk9QAAAABJRU5ErkJggg==",
           "type": "image",
           "x0": 0,
           "y0": 0
          }
         ],
         "layout": {
          "title": {
           "text": "test"
          }
         },
         "name": "18"
        },
        {
         "data": [
          {
           "dx": 1,
           "dy": 1,
           "name": "19",
           "source": "data:image/png;base64,iVBORw0KGgoAAAANSUhEUgAAAEoAAAB5CAIAAAARXCAlAAAAMUlEQVR4Xu3BMQEAAADCoPVPbQ0PoAAAAAAAAAAAAAAAAAAAAAAAAAAAAAAAAAAALg1pZwABE1Fk9QAAAABJRU5ErkJggg==",
           "type": "image",
           "x0": 0,
           "y0": 0
          }
         ],
         "layout": {
          "title": {
           "text": "test"
          }
         },
         "name": "19"
        },
        {
         "data": [
          {
           "dx": 1,
           "dy": 1,
           "name": "20",
           "source": "data:image/png;base64,iVBORw0KGgoAAAANSUhEUgAAAEoAAAB5CAIAAAARXCAlAAAAMUlEQVR4Xu3BMQEAAADCoPVPbQ0PoAAAAAAAAAAAAAAAAAAAAAAAAAAAAAAAAAAALg1pZwABE1Fk9QAAAABJRU5ErkJggg==",
           "type": "image",
           "x0": 0,
           "y0": 0
          }
         ],
         "layout": {
          "title": {
           "text": "test"
          }
         },
         "name": "20"
        },
        {
         "data": [
          {
           "dx": 1,
           "dy": 1,
           "name": "21",
           "source": "data:image/png;base64,iVBORw0KGgoAAAANSUhEUgAAAEoAAAB5CAIAAAARXCAlAAAAMUlEQVR4Xu3BMQEAAADCoPVPbQ0PoAAAAAAAAAAAAAAAAAAAAAAAAAAAAAAAAAAALg1pZwABE1Fk9QAAAABJRU5ErkJggg==",
           "type": "image",
           "x0": 0,
           "y0": 0
          }
         ],
         "layout": {
          "title": {
           "text": "test"
          }
         },
         "name": "21"
        },
        {
         "data": [
          {
           "dx": 1,
           "dy": 1,
           "name": "22",
           "source": "data:image/png;base64,iVBORw0KGgoAAAANSUhEUgAAAEoAAAB5CAIAAAARXCAlAAAAMUlEQVR4Xu3BMQEAAADCoPVPbQ0PoAAAAAAAAAAAAAAAAAAAAAAAAAAAAAAAAAAALg1pZwABE1Fk9QAAAABJRU5ErkJggg==",
           "type": "image",
           "x0": 0,
           "y0": 0
          }
         ],
         "layout": {
          "title": {
           "text": "test"
          }
         },
         "name": "22"
        },
        {
         "data": [
          {
           "dx": 1,
           "dy": 1,
           "name": "23",
           "source": "data:image/png;base64,iVBORw0KGgoAAAANSUhEUgAAAEoAAAB5CAIAAAARXCAlAAAAMUlEQVR4Xu3BMQEAAADCoPVPbQ0PoAAAAAAAAAAAAAAAAAAAAAAAAAAAAAAAAAAALg1pZwABE1Fk9QAAAABJRU5ErkJggg==",
           "type": "image",
           "x0": 0,
           "y0": 0
          }
         ],
         "layout": {
          "title": {
           "text": "test"
          }
         },
         "name": "23"
        },
        {
         "data": [
          {
           "dx": 1,
           "dy": 1,
           "name": "24",
           "source": "data:image/png;base64,iVBORw0KGgoAAAANSUhEUgAAAEoAAAB5CAIAAAARXCAlAAAAMUlEQVR4Xu3BMQEAAADCoPVPbQ0PoAAAAAAAAAAAAAAAAAAAAAAAAAAAAAAAAAAALg1pZwABE1Fk9QAAAABJRU5ErkJggg==",
           "type": "image",
           "x0": 0,
           "y0": 0
          }
         ],
         "layout": {
          "title": {
           "text": "test"
          }
         },
         "name": "24"
        },
        {
         "data": [
          {
           "dx": 1,
           "dy": 1,
           "name": "25",
           "source": "data:image/png;base64,iVBORw0KGgoAAAANSUhEUgAAAEoAAAB5CAIAAAARXCAlAAAAMUlEQVR4Xu3BMQEAAADCoPVPbQ0PoAAAAAAAAAAAAAAAAAAAAAAAAAAAAAAAAAAALg1pZwABE1Fk9QAAAABJRU5ErkJggg==",
           "type": "image",
           "x0": 0,
           "y0": 0
          }
         ],
         "layout": {
          "title": {
           "text": "test"
          }
         },
         "name": "25"
        },
        {
         "data": [
          {
           "dx": 1,
           "dy": 1,
           "name": "26",
           "source": "data:image/png;base64,iVBORw0KGgoAAAANSUhEUgAAAEoAAAB5CAIAAAARXCAlAAAAMUlEQVR4Xu3BMQEAAADCoPVPbQ0PoAAAAAAAAAAAAAAAAAAAAAAAAAAAAAAAAAAALg1pZwABE1Fk9QAAAABJRU5ErkJggg==",
           "type": "image",
           "x0": 0,
           "y0": 0
          }
         ],
         "layout": {
          "title": {
           "text": "test"
          }
         },
         "name": "26"
        },
        {
         "data": [
          {
           "dx": 1,
           "dy": 1,
           "name": "27",
           "source": "data:image/png;base64,iVBORw0KGgoAAAANSUhEUgAAAEoAAAB5CAIAAAARXCAlAAAAMUlEQVR4Xu3BMQEAAADCoPVPbQ0PoAAAAAAAAAAAAAAAAAAAAAAAAAAAAAAAAAAALg1pZwABE1Fk9QAAAABJRU5ErkJggg==",
           "type": "image",
           "x0": 0,
           "y0": 0
          }
         ],
         "layout": {
          "title": {
           "text": "test"
          }
         },
         "name": "27"
        },
        {
         "data": [
          {
           "dx": 1,
           "dy": 1,
           "name": "28",
           "source": "data:image/png;base64,iVBORw0KGgoAAAANSUhEUgAAAEoAAAB5CAIAAAARXCAlAAAAMUlEQVR4Xu3BMQEAAADCoPVPbQ0PoAAAAAAAAAAAAAAAAAAAAAAAAAAAAAAAAAAALg1pZwABE1Fk9QAAAABJRU5ErkJggg==",
           "type": "image",
           "x0": 0,
           "y0": 0
          }
         ],
         "layout": {
          "title": {
           "text": "test"
          }
         },
         "name": "28"
        },
        {
         "data": [
          {
           "dx": 1,
           "dy": 1,
           "name": "29",
           "source": "data:image/png;base64,iVBORw0KGgoAAAANSUhEUgAAAEoAAAB5CAIAAAARXCAlAAAAMUlEQVR4Xu3BMQEAAADCoPVPbQ0PoAAAAAAAAAAAAAAAAAAAAAAAAAAAAAAAAAAALg1pZwABE1Fk9QAAAABJRU5ErkJggg==",
           "type": "image",
           "x0": 0,
           "y0": 0
          }
         ],
         "layout": {
          "title": {
           "text": "test"
          }
         },
         "name": "29"
        },
        {
         "data": [
          {
           "dx": 1,
           "dy": 1,
           "name": "30",
           "source": "data:image/png;base64,iVBORw0KGgoAAAANSUhEUgAAAEoAAAB5CAIAAAARXCAlAAAAMUlEQVR4Xu3BMQEAAADCoPVPbQ0PoAAAAAAAAAAAAAAAAAAAAAAAAAAAAAAAAAAALg1pZwABE1Fk9QAAAABJRU5ErkJggg==",
           "type": "image",
           "x0": 0,
           "y0": 0
          }
         ],
         "layout": {
          "title": {
           "text": "test"
          }
         },
         "name": "30"
        },
        {
         "data": [
          {
           "dx": 1,
           "dy": 1,
           "name": "31",
           "source": "data:image/png;base64,iVBORw0KGgoAAAANSUhEUgAAAEoAAAB5CAIAAAARXCAlAAAAMUlEQVR4Xu3BMQEAAADCoPVPbQ0PoAAAAAAAAAAAAAAAAAAAAAAAAAAAAAAAAAAALg1pZwABE1Fk9QAAAABJRU5ErkJggg==",
           "type": "image",
           "x0": 0,
           "y0": 0
          }
         ],
         "layout": {
          "title": {
           "text": "test"
          }
         },
         "name": "31"
        },
        {
         "data": [
          {
           "dx": 1,
           "dy": 1,
           "name": "32",
           "source": "data:image/png;base64,iVBORw0KGgoAAAANSUhEUgAAAEoAAAB5CAIAAAARXCAlAAAAMUlEQVR4Xu3BMQEAAADCoPVPbQ0PoAAAAAAAAAAAAAAAAAAAAAAAAAAAAAAAAAAALg1pZwABE1Fk9QAAAABJRU5ErkJggg==",
           "type": "image",
           "x0": 0,
           "y0": 0
          }
         ],
         "layout": {
          "title": {
           "text": "test"
          }
         },
         "name": "32"
        },
        {
         "data": [
          {
           "dx": 1,
           "dy": 1,
           "name": "33",
           "source": "data:image/png;base64,iVBORw0KGgoAAAANSUhEUgAAAEoAAAB5CAIAAAARXCAlAAAAMUlEQVR4Xu3BMQEAAADCoPVPbQ0PoAAAAAAAAAAAAAAAAAAAAAAAAAAAAAAAAAAALg1pZwABE1Fk9QAAAABJRU5ErkJggg==",
           "type": "image",
           "x0": 0,
           "y0": 0
          }
         ],
         "layout": {
          "title": {
           "text": "test"
          }
         },
         "name": "33"
        },
        {
         "data": [
          {
           "dx": 1,
           "dy": 1,
           "name": "34",
           "source": "data:image/png;base64,iVBORw0KGgoAAAANSUhEUgAAAEoAAAB5CAIAAAARXCAlAAAAMUlEQVR4Xu3BMQEAAADCoPVPbQ0PoAAAAAAAAAAAAAAAAAAAAAAAAAAAAAAAAAAALg1pZwABE1Fk9QAAAABJRU5ErkJggg==",
           "type": "image",
           "x0": 0,
           "y0": 0
          }
         ],
         "layout": {
          "title": {
           "text": "test"
          }
         },
         "name": "34"
        },
        {
         "data": [
          {
           "dx": 1,
           "dy": 1,
           "name": "35",
           "source": "data:image/png;base64,iVBORw0KGgoAAAANSUhEUgAAAEoAAAB5CAIAAAARXCAlAAAAOElEQVR4Xu3IsQ0AAAgDoP7/dN29wEQYSQAAAOCstrsAAAAAAAAAAAAAAAAAAAAAAAAAAAAAeGQAdjsC/kSR9eEAAAAASUVORK5CYII=",
           "type": "image",
           "x0": 0,
           "y0": 0
          }
         ],
         "layout": {
          "title": {
           "text": "test"
          }
         },
         "name": "35"
        },
        {
         "data": [
          {
           "dx": 1,
           "dy": 1,
           "name": "36",
           "source": "data:image/png;base64,iVBORw0KGgoAAAANSUhEUgAAAEoAAAB5CAIAAAARXCAlAAAAWElEQVR4Xu3UIQ7AMAwEwbj//7NDU6dSQQpqaYb52BKPAQAAHIg6dJOZ6xlxK7rWo53Sti+9817J60zej5U/+bgAAAAAAAAAAAAAAAAAAAAAAAAAAAAA35mmrwkOnpDqgwAAAABJRU5ErkJggg==",
           "type": "image",
           "x0": 0,
           "y0": 0
          }
         ],
         "layout": {
          "title": {
           "text": "test"
          }
         },
         "name": "36"
        },
        {
         "data": [
          {
           "dx": 1,
           "dy": 1,
           "name": "37",
           "source": "data:image/png;base64,iVBORw0KGgoAAAANSUhEUgAAAEoAAAB5CAIAAAARXCAlAAAAfUlEQVR4Xu3WMQ7DIBBFQcj974wLS2iD7Ygu/tJMhRc3TxTQGgAAf9fXQaAxxrnofc1Zv7PMsKpGfso8zG1b+54H5+1IzXs6utPcTc3bJO+VrndANXdT8zYF5z0dYJ3f/5Hlx6sFAAAAAAAAAAAAAAAAAAAAAAAAAACAFzoAUOAVFBPdYNMAAAAASUVORK5CYII=",
           "type": "image",
           "x0": 0,
           "y0": 0
          }
         ],
         "layout": {
          "title": {
           "text": "test"
          }
         },
         "name": "37"
        },
        {
         "data": [
          {
           "dx": 1,
           "dy": 1,
           "name": "38",
           "source": "data:image/png;base64,iVBORw0KGgoAAAANSUhEUgAAAEoAAAB5CAIAAAARXCAlAAAAh0lEQVR4Xu3WMQ6FIBBFUXD/e8aChPBRCeV/yTmVDtPcUGgpAAAJ6joI1FrrD7WuOet7lhE2myOvaR7mta38zlPzvtq6cZqadygyb391Xd+JzDsn7/88v29PfScy71xq3v4Cx2lqXvkunOfvG1k2/5wAAAAAAAAAAAAAAAAAAAAAAAAAAACZbk8qGxgBWGuqAAAAAElFTkSuQmCC",
           "type": "image",
           "x0": 0,
           "y0": 0
          }
         ],
         "layout": {
          "title": {
           "text": "test"
          }
         },
         "name": "38"
        },
        {
         "data": [
          {
           "dx": 1,
           "dy": 1,
           "name": "39",
           "source": "data:image/png;base64,iVBORw0KGgoAAAANSUhEUgAAAEoAAAB5CAIAAAARXCAlAAAAdklEQVR4Xu3WOQ6AMBAEwTX//7MJLHEJAyEjVYXjTTpzFQBAgnYdovTer1NVa3vUctjD3LbVeU/Nm7UN22tk3nPbMG4i876Tl0xeMnn/c/yXzIybyLx6K9xeU/NqXjjbAQAAAAAAAAAAAAAAAAAAAAAAAAAAcqwWJxUaYxxOIAAAAABJRU5ErkJggg==",
           "type": "image",
           "x0": 0,
           "y0": 0
          }
         ],
         "layout": {
          "title": {
           "text": "test"
          }
         },
         "name": "39"
        },
        {
         "data": [
          {
           "dx": 1,
           "dy": 1,
           "name": "40",
           "source": "data:image/png;base64,iVBORw0KGgoAAAANSUhEUgAAAEoAAAB5CAIAAAARXCAlAAAAiUlEQVR4Xu3XMQ7DIAxAUdz735kMSIgwuHSr0XtbwMuXFSlpDQC4ROwH1fTe18eIV1HhvC1sNSM/7/Mykra23JbMy9uGMVMy71y9d+9kddPl25NXmbw/s32XJCKiXt5PSuadLHDMlMxr3wrnbTZUQv7HAAAAAAAAAAAAAAAAAAAAAAAAAAAAXOsBo1kYHrFfy1oAAAAASUVORK5CYII=",
           "type": "image",
           "x0": 0,
           "y0": 0
          }
         ],
         "layout": {
          "title": {
           "text": "test"
          }
         },
         "name": "40"
        },
        {
         "data": [
          {
           "dx": 1,
           "dy": 1,
           "name": "41",
           "source": "data:image/png;base64,iVBORw0KGgoAAAANSUhEUgAAAEoAAAB5CAIAAAARXCAlAAAAhklEQVR4Xu3WMQ7DIBREwU/uf2dSIBHHCg6l15opF5onyxJVAMBDtPMQpfd+nqpa+0S9DnuYn231vafmrdqGeRqZd902jDt5/95O2xT59fbJSyYvmbybOb65rrXW8vJqr3Dcicyrf4XzNDWv1oWrHQAAAAAAAAAAAAAAAAAAAAAAAAAAeJQ3eFcYIFsYBCcAAAAASUVORK5CYII=",
           "type": "image",
           "x0": 0,
           "y0": 0
          }
         ],
         "layout": {
          "title": {
           "text": "test"
          }
         },
         "name": "41"
        },
        {
         "data": [
          {
           "dx": 1,
           "dy": 1,
           "name": "42",
           "source": "data:image/png;base64,iVBORw0KGgoAAAANSUhEUgAAAEoAAAB5CAIAAAARXCAlAAAAgklEQVR4Xu3WsQ6DMAxFUbv//8/pgNqiCJWw8dA5o+XlyhlSBQA8RM+DKGOMeVTV/YtKzTsM29siX/M4wWlbfXYi89blPc6V0309/HrykslLJu9m9n+u/7o7L++SyLyVA24753t3dviDWYkHAAAAAAAAAAAAAAAAAAAAAAAAAADivQFeiRIew79QeQAAAABJRU5ErkJggg==",
           "type": "image",
           "x0": 0,
           "y0": 0
          }
         ],
         "layout": {
          "title": {
           "text": "test"
          }
         },
         "name": "42"
        },
        {
         "data": [
          {
           "dx": 1,
           "dy": 1,
           "name": "43",
           "source": "data:image/png;base64,iVBORw0KGgoAAAANSUhEUgAAAEoAAAB5CAIAAAARXCAlAAAAkElEQVR4Xu3VMQrDMAxAUan3v7M7hKbBGKJsVvveKLx8JHAEANDMGGMeRUREzoNWllWZ36iuecuwqyPyNY87uG2Lz5uWeXX9jrOyutOPb0/eTh5dZrTLu/5pFc3ynpK3mfp9Zma/vEda5lUWeLy5f7ez5T9RiW9m2QkAAAAAAAAAAAAAAAAAAAAAAAAAAH/uDdqEGxidaS5YAAAAAElFTkSuQmCC",
           "type": "image",
           "x0": 0,
           "y0": 0
          }
         ],
         "layout": {
          "title": {
           "text": "test"
          }
         },
         "name": "43"
        },
        {
         "data": [
          {
           "dx": 1,
           "dy": 1,
           "name": "44",
           "source": "data:image/png;base64,iVBORw0KGgoAAAANSUhEUgAAAEoAAAB5CAIAAAARXCAlAAAAgklEQVR4Xu3WsQ6DMAxFUbv//8/pgNqiCJWw8dA5o+XlyhlSBQA8RM+DKGOMeVTV/YtKzTsM29siX/M4wWlbfXYi89blPc6V0309/HrykslLJu9m9n+u/7o7L++SyLyVA24753t3dviDWYkHAAAAAAAAAAAAAAAAAAAAAAAAAADivQFeiRIew79QeQAAAABJRU5ErkJggg==",
           "type": "image",
           "x0": 0,
           "y0": 0
          }
         ],
         "layout": {
          "title": {
           "text": "test"
          }
         },
         "name": "44"
        },
        {
         "data": [
          {
           "dx": 1,
           "dy": 1,
           "name": "45",
           "source": "data:image/png;base64,iVBORw0KGgoAAAANSUhEUgAAAEoAAAB5CAIAAAARXCAlAAAAhklEQVR4Xu3WMQ7DIBREwU/uf2dSIBHHCg6l15opF5onyxJVAMBDtPMQpfd+nqpa+0S9DnuYn231vafmrdqGeRqZd902jDt5/95O2xT59fbJSyYvmbybOb65rrXW8vJqr3Dcicyrf4XzNDWv1oWrHQAAAAAAAAAAAAAAAAAAAAAAAAAAeJQ3eFcYIFsYBCcAAAAASUVORK5CYII=",
           "type": "image",
           "x0": 0,
           "y0": 0
          }
         ],
         "layout": {
          "title": {
           "text": "test"
          }
         },
         "name": "45"
        },
        {
         "data": [
          {
           "dx": 1,
           "dy": 1,
           "name": "46",
           "source": "data:image/png;base64,iVBORw0KGgoAAAANSUhEUgAAAEoAAAB5CAIAAAARXCAlAAAAiUlEQVR4Xu3XMQ7DIAxAUdz735kMSIgwuHSr0XtbwMuXFSlpDQC4ROwH1fTe18eIV1HhvC1sNSM/7/Mykra23JbMy9uGMVMy71y9d+9kddPl25NXmbw/s32XJCKiXt5PSuadLHDMlMxr3wrnbTZUQv7HAAAAAAAAAAAAAAAAAAAAAAAAAAAAXOsBo1kYHrFfy1oAAAAASUVORK5CYII=",
           "type": "image",
           "x0": 0,
           "y0": 0
          }
         ],
         "layout": {
          "title": {
           "text": "test"
          }
         },
         "name": "46"
        },
        {
         "data": [
          {
           "dx": 1,
           "dy": 1,
           "name": "47",
           "source": "data:image/png;base64,iVBORw0KGgoAAAANSUhEUgAAAEoAAAB5CAIAAAARXCAlAAAAdklEQVR4Xu3WOQ6AMBAEwTX//7MJLHEJAyEjVYXjTTpzFQBAgnYdovTer1NVa3vUctjD3LbVeU/Nm7UN22tk3nPbMG4i876Tl0xeMnn/c/yXzIybyLx6K9xeU/NqXjjbAQAAAAAAAAAAAAAAAAAAAAAAAAAAcqwWJxUaYxxOIAAAAABJRU5ErkJggg==",
           "type": "image",
           "x0": 0,
           "y0": 0
          }
         ],
         "layout": {
          "title": {
           "text": "test"
          }
         },
         "name": "47"
        },
        {
         "data": [
          {
           "dx": 1,
           "dy": 1,
           "name": "48",
           "source": "data:image/png;base64,iVBORw0KGgoAAAANSUhEUgAAAEoAAAB5CAIAAAARXCAlAAAAh0lEQVR4Xu3WMQ6FIBBFUXD/e8aChPBRCeV/yTmVDtPcUGgpAAAJ6joI1FrrD7WuOet7lhE2myOvaR7mta38zlPzvtq6cZqadygyb391Xd+JzDsn7/88v29PfScy71xq3v4Cx2lqXvkunOfvG1k2/5wAAAAAAAAAAAAAAAAAAAAAAAAAAACZbk8qGxgBWGuqAAAAAElFTkSuQmCC",
           "type": "image",
           "x0": 0,
           "y0": 0
          }
         ],
         "layout": {
          "title": {
           "text": "test"
          }
         },
         "name": "48"
        },
        {
         "data": [
          {
           "dx": 1,
           "dy": 1,
           "name": "49",
           "source": "data:image/png;base64,iVBORw0KGgoAAAANSUhEUgAAAEoAAAB5CAIAAAARXCAlAAAAfUlEQVR4Xu3WMQ7DIBBFQcj974wLS2iD7Ygu/tJMhRc3TxTQGgAAf9fXQaAxxrnofc1Zv7PMsKpGfso8zG1b+54H5+1IzXs6utPcTc3bJO+VrndANXdT8zYF5z0dYJ3f/5Hlx6sFAAAAAAAAAAAAAAAAAAAAAAAAAACAFzoAUOAVFBPdYNMAAAAASUVORK5CYII=",
           "type": "image",
           "x0": 0,
           "y0": 0
          }
         ],
         "layout": {
          "title": {
           "text": "test"
          }
         },
         "name": "49"
        },
        {
         "data": [
          {
           "dx": 1,
           "dy": 1,
           "name": "50",
           "source": "data:image/png;base64,iVBORw0KGgoAAAANSUhEUgAAAEoAAAB5CAIAAAARXCAlAAAAWElEQVR4Xu3UIQ7AMAwEwbj//7NDU6dSQQpqaYb52BKPAQAAHIg6dJOZ6xlxK7rWo53Sti+9817J60zej5U/+bgAAAAAAAAAAAAAAAAAAAAAAAAAAAAA35mmrwkOnpDqgwAAAABJRU5ErkJggg==",
           "type": "image",
           "x0": 0,
           "y0": 0
          }
         ],
         "layout": {
          "title": {
           "text": "test"
          }
         },
         "name": "50"
        },
        {
         "data": [
          {
           "dx": 1,
           "dy": 1,
           "name": "51",
           "source": "data:image/png;base64,iVBORw0KGgoAAAANSUhEUgAAAEoAAAB5CAIAAAARXCAlAAAAOElEQVR4Xu3IsQ0AAAgDoP7/dN29wEQYSQAAAOCstrsAAAAAAAAAAAAAAAAAAAAAAAAAAAAAeGQAdjsC/kSR9eEAAAAASUVORK5CYII=",
           "type": "image",
           "x0": 0,
           "y0": 0
          }
         ],
         "layout": {
          "title": {
           "text": "test"
          }
         },
         "name": "51"
        },
        {
         "data": [
          {
           "dx": 1,
           "dy": 1,
           "name": "52",
           "source": "data:image/png;base64,iVBORw0KGgoAAAANSUhEUgAAAEoAAAB5CAIAAAARXCAlAAAAMUlEQVR4Xu3BMQEAAADCoPVPbQ0PoAAAAAAAAAAAAAAAAAAAAAAAAAAAAAAAAAAALg1pZwABE1Fk9QAAAABJRU5ErkJggg==",
           "type": "image",
           "x0": 0,
           "y0": 0
          }
         ],
         "layout": {
          "title": {
           "text": "test"
          }
         },
         "name": "52"
        },
        {
         "data": [
          {
           "dx": 1,
           "dy": 1,
           "name": "53",
           "source": "data:image/png;base64,iVBORw0KGgoAAAANSUhEUgAAAEoAAAB5CAIAAAARXCAlAAAAMUlEQVR4Xu3BMQEAAADCoPVPbQ0PoAAAAAAAAAAAAAAAAAAAAAAAAAAAAAAAAAAALg1pZwABE1Fk9QAAAABJRU5ErkJggg==",
           "type": "image",
           "x0": 0,
           "y0": 0
          }
         ],
         "layout": {
          "title": {
           "text": "test"
          }
         },
         "name": "53"
        }
       ],
       "layout": {
        "sliders": [
         {
          "active": 0,
          "currentvalue": {
           "prefix": "Depth="
          },
          "len": 0.9,
          "pad": {
           "b": 10,
           "t": 60
          },
          "steps": [
           {
            "args": [
             [
              "0"
             ],
             {
              "frame": {
               "duration": 0,
               "redraw": true
              },
              "fromcurrent": true,
              "mode": "immediate",
              "transition": {
               "duration": 0,
               "easing": "linear"
              }
             }
            ],
            "label": "0",
            "method": "animate"
           },
           {
            "args": [
             [
              "1"
             ],
             {
              "frame": {
               "duration": 0,
               "redraw": true
              },
              "fromcurrent": true,
              "mode": "immediate",
              "transition": {
               "duration": 0,
               "easing": "linear"
              }
             }
            ],
            "label": "1",
            "method": "animate"
           },
           {
            "args": [
             [
              "2"
             ],
             {
              "frame": {
               "duration": 0,
               "redraw": true
              },
              "fromcurrent": true,
              "mode": "immediate",
              "transition": {
               "duration": 0,
               "easing": "linear"
              }
             }
            ],
            "label": "2",
            "method": "animate"
           },
           {
            "args": [
             [
              "3"
             ],
             {
              "frame": {
               "duration": 0,
               "redraw": true
              },
              "fromcurrent": true,
              "mode": "immediate",
              "transition": {
               "duration": 0,
               "easing": "linear"
              }
             }
            ],
            "label": "3",
            "method": "animate"
           },
           {
            "args": [
             [
              "4"
             ],
             {
              "frame": {
               "duration": 0,
               "redraw": true
              },
              "fromcurrent": true,
              "mode": "immediate",
              "transition": {
               "duration": 0,
               "easing": "linear"
              }
             }
            ],
            "label": "4",
            "method": "animate"
           },
           {
            "args": [
             [
              "5"
             ],
             {
              "frame": {
               "duration": 0,
               "redraw": true
              },
              "fromcurrent": true,
              "mode": "immediate",
              "transition": {
               "duration": 0,
               "easing": "linear"
              }
             }
            ],
            "label": "5",
            "method": "animate"
           },
           {
            "args": [
             [
              "6"
             ],
             {
              "frame": {
               "duration": 0,
               "redraw": true
              },
              "fromcurrent": true,
              "mode": "immediate",
              "transition": {
               "duration": 0,
               "easing": "linear"
              }
             }
            ],
            "label": "6",
            "method": "animate"
           },
           {
            "args": [
             [
              "7"
             ],
             {
              "frame": {
               "duration": 0,
               "redraw": true
              },
              "fromcurrent": true,
              "mode": "immediate",
              "transition": {
               "duration": 0,
               "easing": "linear"
              }
             }
            ],
            "label": "7",
            "method": "animate"
           },
           {
            "args": [
             [
              "8"
             ],
             {
              "frame": {
               "duration": 0,
               "redraw": true
              },
              "fromcurrent": true,
              "mode": "immediate",
              "transition": {
               "duration": 0,
               "easing": "linear"
              }
             }
            ],
            "label": "8",
            "method": "animate"
           },
           {
            "args": [
             [
              "9"
             ],
             {
              "frame": {
               "duration": 0,
               "redraw": true
              },
              "fromcurrent": true,
              "mode": "immediate",
              "transition": {
               "duration": 0,
               "easing": "linear"
              }
             }
            ],
            "label": "9",
            "method": "animate"
           },
           {
            "args": [
             [
              "10"
             ],
             {
              "frame": {
               "duration": 0,
               "redraw": true
              },
              "fromcurrent": true,
              "mode": "immediate",
              "transition": {
               "duration": 0,
               "easing": "linear"
              }
             }
            ],
            "label": "10",
            "method": "animate"
           },
           {
            "args": [
             [
              "11"
             ],
             {
              "frame": {
               "duration": 0,
               "redraw": true
              },
              "fromcurrent": true,
              "mode": "immediate",
              "transition": {
               "duration": 0,
               "easing": "linear"
              }
             }
            ],
            "label": "11",
            "method": "animate"
           },
           {
            "args": [
             [
              "12"
             ],
             {
              "frame": {
               "duration": 0,
               "redraw": true
              },
              "fromcurrent": true,
              "mode": "immediate",
              "transition": {
               "duration": 0,
               "easing": "linear"
              }
             }
            ],
            "label": "12",
            "method": "animate"
           },
           {
            "args": [
             [
              "13"
             ],
             {
              "frame": {
               "duration": 0,
               "redraw": true
              },
              "fromcurrent": true,
              "mode": "immediate",
              "transition": {
               "duration": 0,
               "easing": "linear"
              }
             }
            ],
            "label": "13",
            "method": "animate"
           },
           {
            "args": [
             [
              "14"
             ],
             {
              "frame": {
               "duration": 0,
               "redraw": true
              },
              "fromcurrent": true,
              "mode": "immediate",
              "transition": {
               "duration": 0,
               "easing": "linear"
              }
             }
            ],
            "label": "14",
            "method": "animate"
           },
           {
            "args": [
             [
              "15"
             ],
             {
              "frame": {
               "duration": 0,
               "redraw": true
              },
              "fromcurrent": true,
              "mode": "immediate",
              "transition": {
               "duration": 0,
               "easing": "linear"
              }
             }
            ],
            "label": "15",
            "method": "animate"
           },
           {
            "args": [
             [
              "16"
             ],
             {
              "frame": {
               "duration": 0,
               "redraw": true
              },
              "fromcurrent": true,
              "mode": "immediate",
              "transition": {
               "duration": 0,
               "easing": "linear"
              }
             }
            ],
            "label": "16",
            "method": "animate"
           },
           {
            "args": [
             [
              "17"
             ],
             {
              "frame": {
               "duration": 0,
               "redraw": true
              },
              "fromcurrent": true,
              "mode": "immediate",
              "transition": {
               "duration": 0,
               "easing": "linear"
              }
             }
            ],
            "label": "17",
            "method": "animate"
           },
           {
            "args": [
             [
              "18"
             ],
             {
              "frame": {
               "duration": 0,
               "redraw": true
              },
              "fromcurrent": true,
              "mode": "immediate",
              "transition": {
               "duration": 0,
               "easing": "linear"
              }
             }
            ],
            "label": "18",
            "method": "animate"
           },
           {
            "args": [
             [
              "19"
             ],
             {
              "frame": {
               "duration": 0,
               "redraw": true
              },
              "fromcurrent": true,
              "mode": "immediate",
              "transition": {
               "duration": 0,
               "easing": "linear"
              }
             }
            ],
            "label": "19",
            "method": "animate"
           },
           {
            "args": [
             [
              "20"
             ],
             {
              "frame": {
               "duration": 0,
               "redraw": true
              },
              "fromcurrent": true,
              "mode": "immediate",
              "transition": {
               "duration": 0,
               "easing": "linear"
              }
             }
            ],
            "label": "20",
            "method": "animate"
           },
           {
            "args": [
             [
              "21"
             ],
             {
              "frame": {
               "duration": 0,
               "redraw": true
              },
              "fromcurrent": true,
              "mode": "immediate",
              "transition": {
               "duration": 0,
               "easing": "linear"
              }
             }
            ],
            "label": "21",
            "method": "animate"
           },
           {
            "args": [
             [
              "22"
             ],
             {
              "frame": {
               "duration": 0,
               "redraw": true
              },
              "fromcurrent": true,
              "mode": "immediate",
              "transition": {
               "duration": 0,
               "easing": "linear"
              }
             }
            ],
            "label": "22",
            "method": "animate"
           },
           {
            "args": [
             [
              "23"
             ],
             {
              "frame": {
               "duration": 0,
               "redraw": true
              },
              "fromcurrent": true,
              "mode": "immediate",
              "transition": {
               "duration": 0,
               "easing": "linear"
              }
             }
            ],
            "label": "23",
            "method": "animate"
           },
           {
            "args": [
             [
              "24"
             ],
             {
              "frame": {
               "duration": 0,
               "redraw": true
              },
              "fromcurrent": true,
              "mode": "immediate",
              "transition": {
               "duration": 0,
               "easing": "linear"
              }
             }
            ],
            "label": "24",
            "method": "animate"
           },
           {
            "args": [
             [
              "25"
             ],
             {
              "frame": {
               "duration": 0,
               "redraw": true
              },
              "fromcurrent": true,
              "mode": "immediate",
              "transition": {
               "duration": 0,
               "easing": "linear"
              }
             }
            ],
            "label": "25",
            "method": "animate"
           },
           {
            "args": [
             [
              "26"
             ],
             {
              "frame": {
               "duration": 0,
               "redraw": true
              },
              "fromcurrent": true,
              "mode": "immediate",
              "transition": {
               "duration": 0,
               "easing": "linear"
              }
             }
            ],
            "label": "26",
            "method": "animate"
           },
           {
            "args": [
             [
              "27"
             ],
             {
              "frame": {
               "duration": 0,
               "redraw": true
              },
              "fromcurrent": true,
              "mode": "immediate",
              "transition": {
               "duration": 0,
               "easing": "linear"
              }
             }
            ],
            "label": "27",
            "method": "animate"
           },
           {
            "args": [
             [
              "28"
             ],
             {
              "frame": {
               "duration": 0,
               "redraw": true
              },
              "fromcurrent": true,
              "mode": "immediate",
              "transition": {
               "duration": 0,
               "easing": "linear"
              }
             }
            ],
            "label": "28",
            "method": "animate"
           },
           {
            "args": [
             [
              "29"
             ],
             {
              "frame": {
               "duration": 0,
               "redraw": true
              },
              "fromcurrent": true,
              "mode": "immediate",
              "transition": {
               "duration": 0,
               "easing": "linear"
              }
             }
            ],
            "label": "29",
            "method": "animate"
           },
           {
            "args": [
             [
              "30"
             ],
             {
              "frame": {
               "duration": 0,
               "redraw": true
              },
              "fromcurrent": true,
              "mode": "immediate",
              "transition": {
               "duration": 0,
               "easing": "linear"
              }
             }
            ],
            "label": "30",
            "method": "animate"
           },
           {
            "args": [
             [
              "31"
             ],
             {
              "frame": {
               "duration": 0,
               "redraw": true
              },
              "fromcurrent": true,
              "mode": "immediate",
              "transition": {
               "duration": 0,
               "easing": "linear"
              }
             }
            ],
            "label": "31",
            "method": "animate"
           },
           {
            "args": [
             [
              "32"
             ],
             {
              "frame": {
               "duration": 0,
               "redraw": true
              },
              "fromcurrent": true,
              "mode": "immediate",
              "transition": {
               "duration": 0,
               "easing": "linear"
              }
             }
            ],
            "label": "32",
            "method": "animate"
           },
           {
            "args": [
             [
              "33"
             ],
             {
              "frame": {
               "duration": 0,
               "redraw": true
              },
              "fromcurrent": true,
              "mode": "immediate",
              "transition": {
               "duration": 0,
               "easing": "linear"
              }
             }
            ],
            "label": "33",
            "method": "animate"
           },
           {
            "args": [
             [
              "34"
             ],
             {
              "frame": {
               "duration": 0,
               "redraw": true
              },
              "fromcurrent": true,
              "mode": "immediate",
              "transition": {
               "duration": 0,
               "easing": "linear"
              }
             }
            ],
            "label": "34",
            "method": "animate"
           },
           {
            "args": [
             [
              "35"
             ],
             {
              "frame": {
               "duration": 0,
               "redraw": true
              },
              "fromcurrent": true,
              "mode": "immediate",
              "transition": {
               "duration": 0,
               "easing": "linear"
              }
             }
            ],
            "label": "35",
            "method": "animate"
           },
           {
            "args": [
             [
              "36"
             ],
             {
              "frame": {
               "duration": 0,
               "redraw": true
              },
              "fromcurrent": true,
              "mode": "immediate",
              "transition": {
               "duration": 0,
               "easing": "linear"
              }
             }
            ],
            "label": "36",
            "method": "animate"
           },
           {
            "args": [
             [
              "37"
             ],
             {
              "frame": {
               "duration": 0,
               "redraw": true
              },
              "fromcurrent": true,
              "mode": "immediate",
              "transition": {
               "duration": 0,
               "easing": "linear"
              }
             }
            ],
            "label": "37",
            "method": "animate"
           },
           {
            "args": [
             [
              "38"
             ],
             {
              "frame": {
               "duration": 0,
               "redraw": true
              },
              "fromcurrent": true,
              "mode": "immediate",
              "transition": {
               "duration": 0,
               "easing": "linear"
              }
             }
            ],
            "label": "38",
            "method": "animate"
           },
           {
            "args": [
             [
              "39"
             ],
             {
              "frame": {
               "duration": 0,
               "redraw": true
              },
              "fromcurrent": true,
              "mode": "immediate",
              "transition": {
               "duration": 0,
               "easing": "linear"
              }
             }
            ],
            "label": "39",
            "method": "animate"
           },
           {
            "args": [
             [
              "40"
             ],
             {
              "frame": {
               "duration": 0,
               "redraw": true
              },
              "fromcurrent": true,
              "mode": "immediate",
              "transition": {
               "duration": 0,
               "easing": "linear"
              }
             }
            ],
            "label": "40",
            "method": "animate"
           },
           {
            "args": [
             [
              "41"
             ],
             {
              "frame": {
               "duration": 0,
               "redraw": true
              },
              "fromcurrent": true,
              "mode": "immediate",
              "transition": {
               "duration": 0,
               "easing": "linear"
              }
             }
            ],
            "label": "41",
            "method": "animate"
           },
           {
            "args": [
             [
              "42"
             ],
             {
              "frame": {
               "duration": 0,
               "redraw": true
              },
              "fromcurrent": true,
              "mode": "immediate",
              "transition": {
               "duration": 0,
               "easing": "linear"
              }
             }
            ],
            "label": "42",
            "method": "animate"
           },
           {
            "args": [
             [
              "43"
             ],
             {
              "frame": {
               "duration": 0,
               "redraw": true
              },
              "fromcurrent": true,
              "mode": "immediate",
              "transition": {
               "duration": 0,
               "easing": "linear"
              }
             }
            ],
            "label": "43",
            "method": "animate"
           },
           {
            "args": [
             [
              "44"
             ],
             {
              "frame": {
               "duration": 0,
               "redraw": true
              },
              "fromcurrent": true,
              "mode": "immediate",
              "transition": {
               "duration": 0,
               "easing": "linear"
              }
             }
            ],
            "label": "44",
            "method": "animate"
           },
           {
            "args": [
             [
              "45"
             ],
             {
              "frame": {
               "duration": 0,
               "redraw": true
              },
              "fromcurrent": true,
              "mode": "immediate",
              "transition": {
               "duration": 0,
               "easing": "linear"
              }
             }
            ],
            "label": "45",
            "method": "animate"
           },
           {
            "args": [
             [
              "46"
             ],
             {
              "frame": {
               "duration": 0,
               "redraw": true
              },
              "fromcurrent": true,
              "mode": "immediate",
              "transition": {
               "duration": 0,
               "easing": "linear"
              }
             }
            ],
            "label": "46",
            "method": "animate"
           },
           {
            "args": [
             [
              "47"
             ],
             {
              "frame": {
               "duration": 0,
               "redraw": true
              },
              "fromcurrent": true,
              "mode": "immediate",
              "transition": {
               "duration": 0,
               "easing": "linear"
              }
             }
            ],
            "label": "47",
            "method": "animate"
           },
           {
            "args": [
             [
              "48"
             ],
             {
              "frame": {
               "duration": 0,
               "redraw": true
              },
              "fromcurrent": true,
              "mode": "immediate",
              "transition": {
               "duration": 0,
               "easing": "linear"
              }
             }
            ],
            "label": "48",
            "method": "animate"
           },
           {
            "args": [
             [
              "49"
             ],
             {
              "frame": {
               "duration": 0,
               "redraw": true
              },
              "fromcurrent": true,
              "mode": "immediate",
              "transition": {
               "duration": 0,
               "easing": "linear"
              }
             }
            ],
            "label": "49",
            "method": "animate"
           },
           {
            "args": [
             [
              "50"
             ],
             {
              "frame": {
               "duration": 0,
               "redraw": true
              },
              "fromcurrent": true,
              "mode": "immediate",
              "transition": {
               "duration": 0,
               "easing": "linear"
              }
             }
            ],
            "label": "50",
            "method": "animate"
           },
           {
            "args": [
             [
              "51"
             ],
             {
              "frame": {
               "duration": 0,
               "redraw": true
              },
              "fromcurrent": true,
              "mode": "immediate",
              "transition": {
               "duration": 0,
               "easing": "linear"
              }
             }
            ],
            "label": "51",
            "method": "animate"
           },
           {
            "args": [
             [
              "52"
             ],
             {
              "frame": {
               "duration": 0,
               "redraw": true
              },
              "fromcurrent": true,
              "mode": "immediate",
              "transition": {
               "duration": 0,
               "easing": "linear"
              }
             }
            ],
            "label": "52",
            "method": "animate"
           },
           {
            "args": [
             [
              "53"
             ],
             {
              "frame": {
               "duration": 0,
               "redraw": true
              },
              "fromcurrent": true,
              "mode": "immediate",
              "transition": {
               "duration": 0,
               "easing": "linear"
              }
             }
            ],
            "label": "53",
            "method": "animate"
           }
          ],
          "x": 0.1,
          "xanchor": "left",
          "y": 0,
          "yanchor": "top"
         }
        ],
        "template": {
         "data": {
          "bar": [
           {
            "error_x": {
             "color": "#2a3f5f"
            },
            "error_y": {
             "color": "#2a3f5f"
            },
            "marker": {
             "line": {
              "color": "#E5ECF6",
              "width": 0.5
             },
             "pattern": {
              "fillmode": "overlay",
              "size": 10,
              "solidity": 0.2
             }
            },
            "type": "bar"
           }
          ],
          "barpolar": [
           {
            "marker": {
             "line": {
              "color": "#E5ECF6",
              "width": 0.5
             },
             "pattern": {
              "fillmode": "overlay",
              "size": 10,
              "solidity": 0.2
             }
            },
            "type": "barpolar"
           }
          ],
          "carpet": [
           {
            "aaxis": {
             "endlinecolor": "#2a3f5f",
             "gridcolor": "white",
             "linecolor": "white",
             "minorgridcolor": "white",
             "startlinecolor": "#2a3f5f"
            },
            "baxis": {
             "endlinecolor": "#2a3f5f",
             "gridcolor": "white",
             "linecolor": "white",
             "minorgridcolor": "white",
             "startlinecolor": "#2a3f5f"
            },
            "type": "carpet"
           }
          ],
          "choropleth": [
           {
            "colorbar": {
             "outlinewidth": 0,
             "ticks": ""
            },
            "type": "choropleth"
           }
          ],
          "contour": [
           {
            "colorbar": {
             "outlinewidth": 0,
             "ticks": ""
            },
            "colorscale": [
             [
              0,
              "#0d0887"
             ],
             [
              0.1111111111111111,
              "#46039f"
             ],
             [
              0.2222222222222222,
              "#7201a8"
             ],
             [
              0.3333333333333333,
              "#9c179e"
             ],
             [
              0.4444444444444444,
              "#bd3786"
             ],
             [
              0.5555555555555556,
              "#d8576b"
             ],
             [
              0.6666666666666666,
              "#ed7953"
             ],
             [
              0.7777777777777778,
              "#fb9f3a"
             ],
             [
              0.8888888888888888,
              "#fdca26"
             ],
             [
              1,
              "#f0f921"
             ]
            ],
            "type": "contour"
           }
          ],
          "contourcarpet": [
           {
            "colorbar": {
             "outlinewidth": 0,
             "ticks": ""
            },
            "type": "contourcarpet"
           }
          ],
          "heatmap": [
           {
            "colorbar": {
             "outlinewidth": 0,
             "ticks": ""
            },
            "colorscale": [
             [
              0,
              "#0d0887"
             ],
             [
              0.1111111111111111,
              "#46039f"
             ],
             [
              0.2222222222222222,
              "#7201a8"
             ],
             [
              0.3333333333333333,
              "#9c179e"
             ],
             [
              0.4444444444444444,
              "#bd3786"
             ],
             [
              0.5555555555555556,
              "#d8576b"
             ],
             [
              0.6666666666666666,
              "#ed7953"
             ],
             [
              0.7777777777777778,
              "#fb9f3a"
             ],
             [
              0.8888888888888888,
              "#fdca26"
             ],
             [
              1,
              "#f0f921"
             ]
            ],
            "type": "heatmap"
           }
          ],
          "heatmapgl": [
           {
            "colorbar": {
             "outlinewidth": 0,
             "ticks": ""
            },
            "colorscale": [
             [
              0,
              "#0d0887"
             ],
             [
              0.1111111111111111,
              "#46039f"
             ],
             [
              0.2222222222222222,
              "#7201a8"
             ],
             [
              0.3333333333333333,
              "#9c179e"
             ],
             [
              0.4444444444444444,
              "#bd3786"
             ],
             [
              0.5555555555555556,
              "#d8576b"
             ],
             [
              0.6666666666666666,
              "#ed7953"
             ],
             [
              0.7777777777777778,
              "#fb9f3a"
             ],
             [
              0.8888888888888888,
              "#fdca26"
             ],
             [
              1,
              "#f0f921"
             ]
            ],
            "type": "heatmapgl"
           }
          ],
          "histogram": [
           {
            "marker": {
             "pattern": {
              "fillmode": "overlay",
              "size": 10,
              "solidity": 0.2
             }
            },
            "type": "histogram"
           }
          ],
          "histogram2d": [
           {
            "colorbar": {
             "outlinewidth": 0,
             "ticks": ""
            },
            "colorscale": [
             [
              0,
              "#0d0887"
             ],
             [
              0.1111111111111111,
              "#46039f"
             ],
             [
              0.2222222222222222,
              "#7201a8"
             ],
             [
              0.3333333333333333,
              "#9c179e"
             ],
             [
              0.4444444444444444,
              "#bd3786"
             ],
             [
              0.5555555555555556,
              "#d8576b"
             ],
             [
              0.6666666666666666,
              "#ed7953"
             ],
             [
              0.7777777777777778,
              "#fb9f3a"
             ],
             [
              0.8888888888888888,
              "#fdca26"
             ],
             [
              1,
              "#f0f921"
             ]
            ],
            "type": "histogram2d"
           }
          ],
          "histogram2dcontour": [
           {
            "colorbar": {
             "outlinewidth": 0,
             "ticks": ""
            },
            "colorscale": [
             [
              0,
              "#0d0887"
             ],
             [
              0.1111111111111111,
              "#46039f"
             ],
             [
              0.2222222222222222,
              "#7201a8"
             ],
             [
              0.3333333333333333,
              "#9c179e"
             ],
             [
              0.4444444444444444,
              "#bd3786"
             ],
             [
              0.5555555555555556,
              "#d8576b"
             ],
             [
              0.6666666666666666,
              "#ed7953"
             ],
             [
              0.7777777777777778,
              "#fb9f3a"
             ],
             [
              0.8888888888888888,
              "#fdca26"
             ],
             [
              1,
              "#f0f921"
             ]
            ],
            "type": "histogram2dcontour"
           }
          ],
          "mesh3d": [
           {
            "colorbar": {
             "outlinewidth": 0,
             "ticks": ""
            },
            "type": "mesh3d"
           }
          ],
          "parcoords": [
           {
            "line": {
             "colorbar": {
              "outlinewidth": 0,
              "ticks": ""
             }
            },
            "type": "parcoords"
           }
          ],
          "pie": [
           {
            "automargin": true,
            "type": "pie"
           }
          ],
          "scatter": [
           {
            "fillpattern": {
             "fillmode": "overlay",
             "size": 10,
             "solidity": 0.2
            },
            "type": "scatter"
           }
          ],
          "scatter3d": [
           {
            "line": {
             "colorbar": {
              "outlinewidth": 0,
              "ticks": ""
             }
            },
            "marker": {
             "colorbar": {
              "outlinewidth": 0,
              "ticks": ""
             }
            },
            "type": "scatter3d"
           }
          ],
          "scattercarpet": [
           {
            "marker": {
             "colorbar": {
              "outlinewidth": 0,
              "ticks": ""
             }
            },
            "type": "scattercarpet"
           }
          ],
          "scattergeo": [
           {
            "marker": {
             "colorbar": {
              "outlinewidth": 0,
              "ticks": ""
             }
            },
            "type": "scattergeo"
           }
          ],
          "scattergl": [
           {
            "marker": {
             "colorbar": {
              "outlinewidth": 0,
              "ticks": ""
             }
            },
            "type": "scattergl"
           }
          ],
          "scattermapbox": [
           {
            "marker": {
             "colorbar": {
              "outlinewidth": 0,
              "ticks": ""
             }
            },
            "type": "scattermapbox"
           }
          ],
          "scatterpolar": [
           {
            "marker": {
             "colorbar": {
              "outlinewidth": 0,
              "ticks": ""
             }
            },
            "type": "scatterpolar"
           }
          ],
          "scatterpolargl": [
           {
            "marker": {
             "colorbar": {
              "outlinewidth": 0,
              "ticks": ""
             }
            },
            "type": "scatterpolargl"
           }
          ],
          "scatterternary": [
           {
            "marker": {
             "colorbar": {
              "outlinewidth": 0,
              "ticks": ""
             }
            },
            "type": "scatterternary"
           }
          ],
          "surface": [
           {
            "colorbar": {
             "outlinewidth": 0,
             "ticks": ""
            },
            "colorscale": [
             [
              0,
              "#0d0887"
             ],
             [
              0.1111111111111111,
              "#46039f"
             ],
             [
              0.2222222222222222,
              "#7201a8"
             ],
             [
              0.3333333333333333,
              "#9c179e"
             ],
             [
              0.4444444444444444,
              "#bd3786"
             ],
             [
              0.5555555555555556,
              "#d8576b"
             ],
             [
              0.6666666666666666,
              "#ed7953"
             ],
             [
              0.7777777777777778,
              "#fb9f3a"
             ],
             [
              0.8888888888888888,
              "#fdca26"
             ],
             [
              1,
              "#f0f921"
             ]
            ],
            "type": "surface"
           }
          ],
          "table": [
           {
            "cells": {
             "fill": {
              "color": "#EBF0F8"
             },
             "line": {
              "color": "white"
             }
            },
            "header": {
             "fill": {
              "color": "#C8D4E3"
             },
             "line": {
              "color": "white"
             }
            },
            "type": "table"
           }
          ]
         },
         "layout": {
          "annotationdefaults": {
           "arrowcolor": "#2a3f5f",
           "arrowhead": 0,
           "arrowwidth": 1
          },
          "autotypenumbers": "strict",
          "coloraxis": {
           "colorbar": {
            "outlinewidth": 0,
            "ticks": ""
           }
          },
          "colorscale": {
           "diverging": [
            [
             0,
             "#8e0152"
            ],
            [
             0.1,
             "#c51b7d"
            ],
            [
             0.2,
             "#de77ae"
            ],
            [
             0.3,
             "#f1b6da"
            ],
            [
             0.4,
             "#fde0ef"
            ],
            [
             0.5,
             "#f7f7f7"
            ],
            [
             0.6,
             "#e6f5d0"
            ],
            [
             0.7,
             "#b8e186"
            ],
            [
             0.8,
             "#7fbc41"
            ],
            [
             0.9,
             "#4d9221"
            ],
            [
             1,
             "#276419"
            ]
           ],
           "sequential": [
            [
             0,
             "#0d0887"
            ],
            [
             0.1111111111111111,
             "#46039f"
            ],
            [
             0.2222222222222222,
             "#7201a8"
            ],
            [
             0.3333333333333333,
             "#9c179e"
            ],
            [
             0.4444444444444444,
             "#bd3786"
            ],
            [
             0.5555555555555556,
             "#d8576b"
            ],
            [
             0.6666666666666666,
             "#ed7953"
            ],
            [
             0.7777777777777778,
             "#fb9f3a"
            ],
            [
             0.8888888888888888,
             "#fdca26"
            ],
            [
             1,
             "#f0f921"
            ]
           ],
           "sequentialminus": [
            [
             0,
             "#0d0887"
            ],
            [
             0.1111111111111111,
             "#46039f"
            ],
            [
             0.2222222222222222,
             "#7201a8"
            ],
            [
             0.3333333333333333,
             "#9c179e"
            ],
            [
             0.4444444444444444,
             "#bd3786"
            ],
            [
             0.5555555555555556,
             "#d8576b"
            ],
            [
             0.6666666666666666,
             "#ed7953"
            ],
            [
             0.7777777777777778,
             "#fb9f3a"
            ],
            [
             0.8888888888888888,
             "#fdca26"
            ],
            [
             1,
             "#f0f921"
            ]
           ]
          },
          "colorway": [
           "#636efa",
           "#EF553B",
           "#00cc96",
           "#ab63fa",
           "#FFA15A",
           "#19d3f3",
           "#FF6692",
           "#B6E880",
           "#FF97FF",
           "#FECB52"
          ],
          "font": {
           "color": "#2a3f5f"
          },
          "geo": {
           "bgcolor": "white",
           "lakecolor": "white",
           "landcolor": "#E5ECF6",
           "showlakes": true,
           "showland": true,
           "subunitcolor": "white"
          },
          "hoverlabel": {
           "align": "left"
          },
          "hovermode": "closest",
          "mapbox": {
           "style": "light"
          },
          "paper_bgcolor": "white",
          "plot_bgcolor": "#E5ECF6",
          "polar": {
           "angularaxis": {
            "gridcolor": "white",
            "linecolor": "white",
            "ticks": ""
           },
           "bgcolor": "#E5ECF6",
           "radialaxis": {
            "gridcolor": "white",
            "linecolor": "white",
            "ticks": ""
           }
          },
          "scene": {
           "xaxis": {
            "backgroundcolor": "#E5ECF6",
            "gridcolor": "white",
            "gridwidth": 2,
            "linecolor": "white",
            "showbackground": true,
            "ticks": "",
            "zerolinecolor": "white"
           },
           "yaxis": {
            "backgroundcolor": "#E5ECF6",
            "gridcolor": "white",
            "gridwidth": 2,
            "linecolor": "white",
            "showbackground": true,
            "ticks": "",
            "zerolinecolor": "white"
           },
           "zaxis": {
            "backgroundcolor": "#E5ECF6",
            "gridcolor": "white",
            "gridwidth": 2,
            "linecolor": "white",
            "showbackground": true,
            "ticks": "",
            "zerolinecolor": "white"
           }
          },
          "shapedefaults": {
           "line": {
            "color": "#2a3f5f"
           }
          },
          "ternary": {
           "aaxis": {
            "gridcolor": "white",
            "linecolor": "white",
            "ticks": ""
           },
           "baxis": {
            "gridcolor": "white",
            "linecolor": "white",
            "ticks": ""
           },
           "bgcolor": "#E5ECF6",
           "caxis": {
            "gridcolor": "white",
            "linecolor": "white",
            "ticks": ""
           }
          },
          "title": {
           "x": 0.05
          },
          "xaxis": {
           "automargin": true,
           "gridcolor": "white",
           "linecolor": "white",
           "ticks": "",
           "title": {
            "standoff": 15
           },
           "zerolinecolor": "white",
           "zerolinewidth": 2
          },
          "yaxis": {
           "automargin": true,
           "gridcolor": "white",
           "linecolor": "white",
           "ticks": "",
           "title": {
            "standoff": 15
           },
           "zerolinecolor": "white",
           "zerolinewidth": 2
          }
         }
        },
        "title": {
         "text": "test"
        },
        "updatemenus": [
         {
          "buttons": [
           {
            "args": [
             null,
             {
              "frame": {
               "duration": 500,
               "redraw": true
              },
              "fromcurrent": true,
              "mode": "immediate",
              "transition": {
               "duration": 500,
               "easing": "linear"
              }
             }
            ],
            "label": "&#9654;",
            "method": "animate"
           },
           {
            "args": [
             [
              null
             ],
             {
              "frame": {
               "duration": 0,
               "redraw": true
              },
              "fromcurrent": true,
              "mode": "immediate",
              "transition": {
               "duration": 0,
               "easing": "linear"
              }
             }
            ],
            "label": "&#9724;",
            "method": "animate"
           }
          ],
          "direction": "left",
          "pad": {
           "r": 10,
           "t": 70
          },
          "showactive": false,
          "type": "buttons",
          "x": 0.1,
          "xanchor": "right",
          "y": 0,
          "yanchor": "top"
         }
        ],
        "xaxis": {
         "anchor": "y",
         "domain": [
          0,
          1
         ],
         "title": {
          "text": "col"
         }
        },
        "yaxis": {
         "anchor": "x",
         "domain": [
          0,
          1
         ],
         "title": {
          "text": "row"
         }
        }
       }
      }
     },
     "metadata": {},
     "output_type": "display_data"
    }
   ],
   "source": [
    "volume=arr\n",
    "volumeRGB=np.moveaxis(volume,[0,1,2,3],[-1,0,1,2])\n",
    "\n",
    "sliceViewer(volumeRGB,[i for i in range(len(volumeRGB))],key=\"Depth\",title=\"test\",height=700)"
   ]
  },
  {
   "cell_type": "code",
   "execution_count": 36,
   "metadata": {},
   "outputs": [
    {
     "name": "stdout",
     "output_type": "stream",
     "text": [
      "true\n"
     ]
    }
   ],
   "source": [
    "\n",
    "if arr.max()>arr.min():\n",
    "    print(\"true\")"
   ]
  },
  {
   "cell_type": "code",
   "execution_count": 17,
   "metadata": {},
   "outputs": [
    {
     "data": {
      "text/plain": [
       "array([1, 0])"
      ]
     },
     "execution_count": 17,
     "metadata": {},
     "output_type": "execute_result"
    }
   ],
   "source": [
    "LRflag"
   ]
  },
  {
   "cell_type": "code",
   "execution_count": 37,
   "metadata": {},
   "outputs": [],
   "source": [
    "args={\n",
    "    'inputData':inputData,\n",
    "    'batch_size':10,\n",
    "    'num_classes':1,\n",
    "    'epochs':5,\n",
    "    'epochs_pretrain':1,\n",
    "    'freeze_epochs':0,\n",
    "    'epochs_finetune':0,\n",
    "    'seed':44,\n",
    "    'experiment_folder':'data/experiment_1',\n",
    "    'lr':.0001,\n",
    "    'lr_net':.0001,\n",
    "    'lr_block':.0001,\n",
    "    'lr_class':.05,\n",
    "    'lr_backbone':.0001,\n",
    "    'weight_decay':0,\n",
    "    'gamma':.1,\n",
    "    'step_size':1,\n",
    "    'channels':3,\n",
    "    'net':\"3Dresnet18\",\n",
    "    'num_features':0,\n",
    "    'bias':False,\n",
    "    'out_shape':1,\n",
    "    'disable_pretrained':False,\n",
    "    'optimizer':'Adam',\n",
    "    'state_dict_dir_net':'',\n",
    "    'log_dir':'logs/kFold3',\n",
    "    \"dic_classes\":{False:0,True:1},\n",
    "    'val_split':.05,\n",
    "    'test_split':.2,\n",
    "    'defaultFinetune':True,\n",
    "    'lr_finetune':.05,\n",
    "    'flipTrain':False,\n",
    "    'stratSampling':True,\n",
    "    'excludePatients':['735','322','531','523','876','552'],\n",
    "    'log_power':1,\n",
    "    'img_shape':[54,121,74],\n",
    "    'wshape':5, # this is assigned mid script and doesn't matter here\n",
    "    'hshape':8, # these matter and should bechanged to correct vals for the analyzing_network\n",
    "    'dshape':7,\n",
    "    'backboneStrides':[1,2,2,2],\n",
    "    'verbose':False,\n",
    "}\n"
   ]
  },
  {
   "cell_type": "code",
   "execution_count": 40,
   "metadata": {},
   "outputs": [],
   "source": [
    "dataloaders=get_dataloaders(dataset_h5path=inputData,\n",
    "                                k_fold=5,\n",
    "                                test_p=args['test_split'],\n",
    "                                val_p=args['val_split'],\n",
    "                                batchSize=args['batch_size'],\n",
    "                                seed=args['seed'],\n",
    "                                kMeansSaveDir=None,\n",
    "                                flipTrain=args['flipTrain'],\n",
    "                                stratSampling=args['stratSampling'],\n",
    "                                excludePatients=args['excludePatients'],\n",
    "                                )\n",
    "\n",
    "trainloader = dataloaders[0]\n",
    "trainloader_pretraining = dataloaders[1]\n",
    "trainloader_normal = dataloaders[2] \n",
    "trainloader_normal_augment = dataloaders[3]\n",
    "projectloader = dataloaders[4]\n",
    "valloader = dataloaders[5]\n",
    "testloader = dataloaders[6] \n",
    "test_projectloader = dataloaders[7]"
   ]
  },
  {
   "cell_type": "code",
   "execution_count": 43,
   "metadata": {},
   "outputs": [
    {
     "name": "stdout",
     "output_type": "stream",
     "text": [
      "Number of prototypes:  512\n",
      "Network is  3Dresnet18\n"
     ]
    }
   ],
   "source": [
    "useGPU=True\n",
    "devID=0\n",
    "if useGPU:\n",
    "    device=torch.device(f'cuda:{devID}')\n",
    "else:\n",
    "    device=torch.device('cpu')\n",
    "\n",
    "\n",
    "network_layers = get_network(num_classes=args['num_classes'], args=args)\n",
    "feature_net = network_layers[0]\n",
    "add_on_layers = network_layers[1]\n",
    "pool_layer = network_layers[2]\n",
    "classification_layer = network_layers[3]\n",
    "num_prototypes = network_layers[4]\n",
    "newFeatures=feature_net\n",
    "\"\"\"\n",
    "### let's try hacking in our layer here?\n",
    "testLayer=[nn.Conv3d(in_channels = 1, \n",
    "                out_channels = 3, \n",
    "                kernel_size =1, \n",
    "                stride = 1, \n",
    "                padding = 1, \n",
    "                bias = True),]\n",
    "newFeatures=nn.Sequential(testLayer[0],feature_net)\n",
    "\"\"\"\n",
    "\n",
    "\n",
    "classification_layer.normalization_multiplier=nn.Parameter(\n",
    "        torch.ones((1,), requires_grad = True)*args['log_power'])\n",
    "\n",
    "net = PIPNet(\n",
    "    num_classes = args['num_classes'],\n",
    "    num_prototypes = num_prototypes,\n",
    "    feature_net = newFeatures,\n",
    "    args = args,\n",
    "    add_on_layers = add_on_layers,\n",
    "    pool_layer = pool_layer,\n",
    "    classification_layer = classification_layer\n",
    "    )\n",
    "\n",
    "net = net.to(device=device)\n",
    "\n",
    "net = nn.DataParallel(net, device_ids = [0])  \n",
    "\n",
    "optimizer = get_optimizer_nn(net, args)\n",
    "optimizer_net = optimizer[0]\n",
    "optimizer_classifier = optimizer[1] \n",
    "params_to_freeze = optimizer[2] \n",
    "params_to_train = optimizer[3] \n",
    "params_backbone = optimizer[4]   "
   ]
  }
 ],
 "metadata": {
  "kernelspec": {
   "display_name": "base",
   "language": "python",
   "name": "python3"
  },
  "language_info": {
   "codemirror_mode": {
    "name": "ipython",
    "version": 3
   },
   "file_extension": ".py",
   "mimetype": "text/x-python",
   "name": "python",
   "nbconvert_exporter": "python",
   "pygments_lexer": "ipython3",
   "version": "3.11.5"
  }
 },
 "nbformat": 4,
 "nbformat_minor": 2
}
