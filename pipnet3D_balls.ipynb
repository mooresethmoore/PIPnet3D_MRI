{
 "cells": [
  {
   "cell_type": "code",
   "execution_count": 1,
   "metadata": {},
   "outputs": [],
   "source": [
    "import argparse\n",
    "import os\n",
    "import math\n",
    "import numpy as np\n",
    "import SimpleITK as sitk\n",
    "import random\n",
    "import pandas as pd\n",
    "from typing import Tuple, Dict\n",
    "\n",
    "import torch\n",
    "from torch import Tensor\n",
    "import torch.optim\n",
    "import torch.utils.data\n",
    "import torchvision\n",
    "import torchvision.transforms as transforms\n",
    "\n",
    "from monai.transforms import (\n",
    "    Compose,\n",
    "    Resize,\n",
    "    RandRotate,\n",
    "    Affine,\n",
    "    RandGaussianNoise,\n",
    "    RandZoom,\n",
    "    RepeatChannel,\n",
    ")\n",
    "\n",
    "from sklearn.model_selection import train_test_split\n",
    "from sklearn.model_selection import StratifiedKFold\n",
    "import joblib\n",
    "import h5py\n",
    "import openpyxl\n",
    "from openpyxl import Workbook\n",
    "import matplotlib.pyplot as plt\n",
    "import matplotlib.cm as cm"
   ]
  },
  {
   "cell_type": "code",
   "execution_count": 13,
   "metadata": {},
   "outputs": [],
   "source": [
    "inputData='data/syntheticData_balls_LR.h5'\n",
    "outputFile='data/syntheticData_balls_LR_fixed.h5'\n",
    "with h5py.File(inputData, 'r') as f:\n",
    "    shapesL=[f[k]['L'][:].shape for k in f.keys()]\n",
    "    shapesR=[f[k]['R'][:].shape for k in f.keys()]"
   ]
  },
  {
   "cell_type": "code",
   "execution_count": 14,
   "metadata": {},
   "outputs": [
    {
     "data": {
      "text/plain": [
       "(54, 121, 74)"
      ]
     },
     "execution_count": 14,
     "metadata": {},
     "output_type": "execute_result"
    }
   ],
   "source": [
    "finalShape=shapesR[0]\n",
    "finalShape"
   ]
  },
  {
   "cell_type": "code",
   "execution_count": 15,
   "metadata": {},
   "outputs": [
    {
     "data": {
      "text/plain": [
       "(121, 54, 74)"
      ]
     },
     "execution_count": 15,
     "metadata": {},
     "output_type": "execute_result"
    }
   ],
   "source": [
    "shapesL[0]"
   ]
  },
  {
   "cell_type": "code",
   "execution_count": 16,
   "metadata": {},
   "outputs": [],
   "source": [
    "inputData='data/syntheticData_balls_LR.h5'\n",
    "outputFile='data/syntheticData_balls_LR_fixed.h5'\n",
    "with h5py.File(f'{outputFile}','w') as patientData:\n",
    "    with h5py.File(inputData, 'r') as f:\n",
    "        for k in f.keys():\n",
    "            grp=patientData.create_group(k)\n",
    "            grp.attrs['LRflag']=f[k].attrs['LRflag']\n",
    "            grp.create_dataset(\"L\",data=np.moveaxis(f[k][\"L\"][:],[0,1,2],[1,0,2]).astype(np.float32),compression=\"gzip\", compression_opts=6)\n",
    "            grp.create_dataset(\"R\",data=f[k][\"R\"][:].astype(np.float32),compression=\"gzip\", compression_opts=6)\n"
   ]
  }
 ],
 "metadata": {
  "kernelspec": {
   "display_name": "base",
   "language": "python",
   "name": "python3"
  },
  "language_info": {
   "codemirror_mode": {
    "name": "ipython",
    "version": 3
   },
   "file_extension": ".py",
   "mimetype": "text/x-python",
   "name": "python",
   "nbconvert_exporter": "python",
   "pygments_lexer": "ipython3",
   "version": "3.11.5"
  }
 },
 "nbformat": 4,
 "nbformat_minor": 2
}
